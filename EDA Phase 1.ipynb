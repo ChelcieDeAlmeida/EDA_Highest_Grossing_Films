{
 "cells": [
  {
   "cell_type": "markdown",
   "metadata": {},
   "source": [
    "# EDA Project"
   ]
  },
  {
   "cell_type": "markdown",
   "metadata": {},
   "source": [
    "<div class=\"alert alert-block alert-info\">The EDA project in this course has four main parts to it: <br>\n",
    "    \n",
    "1. Project Proposal\n",
    "2. Phase 1\n",
    "3. Phase 2\n",
    "4. Report\n",
    "\n",
    "This notebook will be used for Project Proposal, Phase 1, and Phase 2. You will have specific questions to answer within this notebook for Project Proposal and Phase 1. You will also continue using this notebook for Phase 2. However, guidance and expectations can be found on Canvas for that assignment. The report is completed outside of this notebook and details can be found on the EDA Report page on Canvas.</div>"
   ]
  },
  {
   "cell_type": "markdown",
   "metadata": {},
   "source": [
    "<div class=\"alert alert-block alert-danger\"><b><font size=4>Read this before proceeding:</font></b>\n",
    "    \n",
    "1. Review the list of data sets and sources of data to avoid before choosing your data. This list is provided in the instructions for the Project Proposal assignment in Canvas.<br><br>  \n",
    "\n",
    "2. It is expected that when you are asked questions requiring typed explanations you are to use a <b><u>markdown cell</u></b> to type your answers neatly. <b><u><i>Do not provide typed answers to questions as extra comments within your code.</i></u></b> Only provide comments within your code as you normally would, i.e. as needed to explain or remind yourself what each part of the code is doing.</div>"
   ]
  },
  {
   "cell_type": "markdown",
   "metadata": {},
   "source": [
    "# Project Proposal"
   ]
  },
  {
   "cell_type": "markdown",
   "metadata": {},
   "source": [
    "<div class=\"alert alert-block alert-info\">The intent of this assignment is for you to share your chosen data file(s) with your instructor and provide general information on your goals for the EDA project.</div>"
   ]
  },
  {
   "cell_type": "markdown",
   "metadata": {},
   "source": [
    "<div class=\"alert alert-block alert-success\"><b>Step 1 (2 pts)</b>: Give a brief <i><u>description</u></i> of the source(s) of your data and include a <i><u>direct link</u></i> to your data.</div>"
   ]
  },
  {
   "cell_type": "markdown",
   "metadata": {},
   "source": [
    "The sources that I'll be using for my project proposal are as follows:\n",
    "1. https://datasets.imdbws.com/\n",
    "2. https://www.the-numbers.com/movie/budgets\n",
    "\n",
    "The data includes 3 separate files:\n",
    "\n",
    "**movie_budget**: includes production costs, domestic and worldwide gross (The Numbers)\n",
    "\n",
    "**title_basics**: includes runtimes, title's type, genre, primary and original title (IMDB)\n",
    "\n",
    "**title_akas**: includes title of film, region, language, format type"
   ]
  },
  {
   "cell_type": "markdown",
   "metadata": {},
   "source": [
    "<div class=\"alert alert-block alert-success\"><b>Step 2 (2 pts)</b>: Briefly explain why you chose this data.</div>"
   ]
  },
  {
   "cell_type": "markdown",
   "metadata": {},
   "source": [
    "I'm interested in determining in which season do movies sell most as it is my hunch that colder seasons are the most lucrative for film studios."
   ]
  },
  {
   "cell_type": "markdown",
   "metadata": {},
   "source": [
    "<div class=\"alert alert-block alert-success\"><b>Step 3 (1 pt)</b>: Provide a brief overview of your goals for this project.</div>"
   ]
  },
  {
   "cell_type": "markdown",
   "metadata": {},
   "source": [
    "The goal of this project is to determine if movie sales are impacted by seasonal changes in the northern hemisphere particularly the US"
   ]
  },
  {
   "cell_type": "markdown",
   "metadata": {},
   "source": [
    "<div class=\"alert alert-block alert-success\"><b>Step 4 (1 pt)</b>: Read the data into this notebook.</div>"
   ]
  },
  {
   "cell_type": "code",
   "execution_count": 7,
   "metadata": {},
   "outputs": [],
   "source": [
    "import pandas as pd\n",
    "\n",
    "# Set up notebook to display multiple outputs in one cell\n",
    "from IPython.core.interactiveshell import InteractiveShell\n",
    "InteractiveShell.ast_node_interactivity = \"all\""
   ]
  },
  {
   "cell_type": "code",
   "execution_count": 134,
   "metadata": {},
   "outputs": [
    {
     "name": "stderr",
     "output_type": "stream",
     "text": [
      "/Users/chelciedealmeida/opt/anaconda3/lib/python3.8/site-packages/IPython/core/interactiveshell.py:3165: DtypeWarning: Columns (7) have mixed types.Specify dtype option on import or set low_memory=False.\n",
      "  has_raised = await self.run_ast_nodes(code_ast.body, cell_name,\n"
     ]
    }
   ],
   "source": [
    "# read data\n",
    "\n",
    "movie_budget = pd.read_csv('movie_budget.csv')\n",
    "title_basics = pd.read_csv('title.basics.tsv', sep='\\t')\n",
    "title_akas = pd.read_csv('title.akas.tsv', sep='\\t')"
   ]
  },
  {
   "cell_type": "markdown",
   "metadata": {},
   "source": [
    "<div class=\"alert alert-block alert-success\"><b>Step 5 (1 pt)</b>: Inspect the data using the <b>info(&nbsp;)</b>, <b>head(&nbsp;)</b>, and <b>tail(&nbsp;)</b> methods.</div>"
   ]
  },
  {
   "cell_type": "code",
   "execution_count": 90,
   "metadata": {
    "scrolled": true
   },
   "outputs": [
    {
     "name": "stdout",
     "output_type": "stream",
     "text": [
      "<class 'pandas.core.frame.DataFrame'>\n",
      "Int64Index: 5281 entries, 0 to 5816\n",
      "Data columns (total 5 columns):\n",
      " #   Column             Non-Null Count  Dtype         \n",
      "---  ------             --------------  -----         \n",
      " 0   Release Date       5281 non-null   datetime64[ns]\n",
      " 1   Movie              5281 non-null   object        \n",
      " 2   Production Budget  5281 non-null   int64         \n",
      " 3   Domestic Gross     5281 non-null   int64         \n",
      " 4   Worldwide Gross    5281 non-null   int64         \n",
      "dtypes: datetime64[ns](1), int64(3), object(1)\n",
      "memory usage: 247.5+ KB\n",
      "<class 'pandas.core.frame.DataFrame'>\n",
      "RangeIndex: 8648763 entries, 0 to 8648762\n",
      "Data columns (total 9 columns):\n",
      " #   Column          Dtype \n",
      "---  ------          ----- \n",
      " 0   tconst          object\n",
      " 1   titleType       object\n",
      " 2   primaryTitle    object\n",
      " 3   originalTitle   object\n",
      " 4   isAdult         object\n",
      " 5   startYear       object\n",
      " 6   endYear         object\n",
      " 7   runtimeMinutes  object\n",
      " 8   genres          object\n",
      "dtypes: object(9)\n",
      "memory usage: 593.9+ MB\n",
      "<class 'pandas.core.frame.DataFrame'>\n",
      "RangeIndex: 30770404 entries, 0 to 30770403\n",
      "Data columns (total 8 columns):\n",
      " #   Column           Dtype \n",
      "---  ------           ----- \n",
      " 0   titleId          object\n",
      " 1   ordering         int64 \n",
      " 2   title            object\n",
      " 3   region           object\n",
      " 4   language         object\n",
      " 5   types            object\n",
      " 6   attributes       object\n",
      " 7   isOriginalTitle  object\n",
      "dtypes: int64(1), object(7)\n",
      "memory usage: 1.8+ GB\n"
     ]
    },
    {
     "data": {
      "text/html": [
       "<div>\n",
       "<style scoped>\n",
       "    .dataframe tbody tr th:only-of-type {\n",
       "        vertical-align: middle;\n",
       "    }\n",
       "\n",
       "    .dataframe tbody tr th {\n",
       "        vertical-align: top;\n",
       "    }\n",
       "\n",
       "    .dataframe thead th {\n",
       "        text-align: right;\n",
       "    }\n",
       "</style>\n",
       "<table border=\"1\" class=\"dataframe\">\n",
       "  <thead>\n",
       "    <tr style=\"text-align: right;\">\n",
       "      <th></th>\n",
       "      <th>Release Date</th>\n",
       "      <th>Movie</th>\n",
       "      <th>Production Budget</th>\n",
       "      <th>Domestic Gross</th>\n",
       "      <th>Worldwide Gross</th>\n",
       "    </tr>\n",
       "  </thead>\n",
       "  <tbody>\n",
       "    <tr>\n",
       "      <th>0</th>\n",
       "      <td>2019-04-23</td>\n",
       "      <td>Avengers: Endgame</td>\n",
       "      <td>400000000</td>\n",
       "      <td>858373000</td>\n",
       "      <td>2797800564</td>\n",
       "    </tr>\n",
       "    <tr>\n",
       "      <th>1</th>\n",
       "      <td>2011-05-20</td>\n",
       "      <td>Pirates of the Caribbean: On Stranger Tides</td>\n",
       "      <td>379000000</td>\n",
       "      <td>241071802</td>\n",
       "      <td>1045713802</td>\n",
       "    </tr>\n",
       "    <tr>\n",
       "      <th>2</th>\n",
       "      <td>2015-04-22</td>\n",
       "      <td>Avengers: Age of Ultron</td>\n",
       "      <td>365000000</td>\n",
       "      <td>459005868</td>\n",
       "      <td>1395316979</td>\n",
       "    </tr>\n",
       "    <tr>\n",
       "      <th>3</th>\n",
       "      <td>2015-12-16</td>\n",
       "      <td>Star Wars Ep. VII: The Force Awakens</td>\n",
       "      <td>306000000</td>\n",
       "      <td>936662225</td>\n",
       "      <td>2064615817</td>\n",
       "    </tr>\n",
       "    <tr>\n",
       "      <th>4</th>\n",
       "      <td>2018-04-25</td>\n",
       "      <td>Avengers: Infinity War</td>\n",
       "      <td>300000000</td>\n",
       "      <td>678815482</td>\n",
       "      <td>2048359754</td>\n",
       "    </tr>\n",
       "  </tbody>\n",
       "</table>\n",
       "</div>"
      ],
      "text/plain": [
       "  Release Date                                        Movie  \\\n",
       "0   2019-04-23                            Avengers: Endgame   \n",
       "1   2011-05-20  Pirates of the Caribbean: On Stranger Tides   \n",
       "2   2015-04-22                      Avengers: Age of Ultron   \n",
       "3   2015-12-16         Star Wars Ep. VII: The Force Awakens   \n",
       "4   2018-04-25                       Avengers: Infinity War   \n",
       "\n",
       "   Production Budget  Domestic Gross  Worldwide Gross  \n",
       "0          400000000       858373000       2797800564  \n",
       "1          379000000       241071802       1045713802  \n",
       "2          365000000       459005868       1395316979  \n",
       "3          306000000       936662225       2064615817  \n",
       "4          300000000       678815482       2048359754  "
      ]
     },
     "execution_count": 90,
     "metadata": {},
     "output_type": "execute_result"
    },
    {
     "data": {
      "text/html": [
       "<div>\n",
       "<style scoped>\n",
       "    .dataframe tbody tr th:only-of-type {\n",
       "        vertical-align: middle;\n",
       "    }\n",
       "\n",
       "    .dataframe tbody tr th {\n",
       "        vertical-align: top;\n",
       "    }\n",
       "\n",
       "    .dataframe thead th {\n",
       "        text-align: right;\n",
       "    }\n",
       "</style>\n",
       "<table border=\"1\" class=\"dataframe\">\n",
       "  <thead>\n",
       "    <tr style=\"text-align: right;\">\n",
       "      <th></th>\n",
       "      <th>tconst</th>\n",
       "      <th>titleType</th>\n",
       "      <th>primaryTitle</th>\n",
       "      <th>originalTitle</th>\n",
       "      <th>isAdult</th>\n",
       "      <th>startYear</th>\n",
       "      <th>endYear</th>\n",
       "      <th>runtimeMinutes</th>\n",
       "      <th>genres</th>\n",
       "    </tr>\n",
       "  </thead>\n",
       "  <tbody>\n",
       "    <tr>\n",
       "      <th>0</th>\n",
       "      <td>tt0000001</td>\n",
       "      <td>short</td>\n",
       "      <td>Carmencita</td>\n",
       "      <td>Carmencita</td>\n",
       "      <td>0</td>\n",
       "      <td>1894</td>\n",
       "      <td>\\N</td>\n",
       "      <td>1</td>\n",
       "      <td>Documentary,Short</td>\n",
       "    </tr>\n",
       "    <tr>\n",
       "      <th>1</th>\n",
       "      <td>tt0000002</td>\n",
       "      <td>short</td>\n",
       "      <td>Le clown et ses chiens</td>\n",
       "      <td>Le clown et ses chiens</td>\n",
       "      <td>0</td>\n",
       "      <td>1892</td>\n",
       "      <td>\\N</td>\n",
       "      <td>5</td>\n",
       "      <td>Animation,Short</td>\n",
       "    </tr>\n",
       "    <tr>\n",
       "      <th>2</th>\n",
       "      <td>tt0000003</td>\n",
       "      <td>short</td>\n",
       "      <td>Pauvre Pierrot</td>\n",
       "      <td>Pauvre Pierrot</td>\n",
       "      <td>0</td>\n",
       "      <td>1892</td>\n",
       "      <td>\\N</td>\n",
       "      <td>4</td>\n",
       "      <td>Animation,Comedy,Romance</td>\n",
       "    </tr>\n",
       "    <tr>\n",
       "      <th>3</th>\n",
       "      <td>tt0000004</td>\n",
       "      <td>short</td>\n",
       "      <td>Un bon bock</td>\n",
       "      <td>Un bon bock</td>\n",
       "      <td>0</td>\n",
       "      <td>1892</td>\n",
       "      <td>\\N</td>\n",
       "      <td>12</td>\n",
       "      <td>Animation,Short</td>\n",
       "    </tr>\n",
       "    <tr>\n",
       "      <th>4</th>\n",
       "      <td>tt0000005</td>\n",
       "      <td>short</td>\n",
       "      <td>Blacksmith Scene</td>\n",
       "      <td>Blacksmith Scene</td>\n",
       "      <td>0</td>\n",
       "      <td>1893</td>\n",
       "      <td>\\N</td>\n",
       "      <td>1</td>\n",
       "      <td>Comedy,Short</td>\n",
       "    </tr>\n",
       "  </tbody>\n",
       "</table>\n",
       "</div>"
      ],
      "text/plain": [
       "      tconst titleType            primaryTitle           originalTitle  \\\n",
       "0  tt0000001     short              Carmencita              Carmencita   \n",
       "1  tt0000002     short  Le clown et ses chiens  Le clown et ses chiens   \n",
       "2  tt0000003     short          Pauvre Pierrot          Pauvre Pierrot   \n",
       "3  tt0000004     short             Un bon bock             Un bon bock   \n",
       "4  tt0000005     short        Blacksmith Scene        Blacksmith Scene   \n",
       "\n",
       "  isAdult startYear endYear runtimeMinutes                    genres  \n",
       "0       0      1894      \\N              1         Documentary,Short  \n",
       "1       0      1892      \\N              5           Animation,Short  \n",
       "2       0      1892      \\N              4  Animation,Comedy,Romance  \n",
       "3       0      1892      \\N             12           Animation,Short  \n",
       "4       0      1893      \\N              1              Comedy,Short  "
      ]
     },
     "execution_count": 90,
     "metadata": {},
     "output_type": "execute_result"
    },
    {
     "data": {
      "text/html": [
       "<div>\n",
       "<style scoped>\n",
       "    .dataframe tbody tr th:only-of-type {\n",
       "        vertical-align: middle;\n",
       "    }\n",
       "\n",
       "    .dataframe tbody tr th {\n",
       "        vertical-align: top;\n",
       "    }\n",
       "\n",
       "    .dataframe thead th {\n",
       "        text-align: right;\n",
       "    }\n",
       "</style>\n",
       "<table border=\"1\" class=\"dataframe\">\n",
       "  <thead>\n",
       "    <tr style=\"text-align: right;\">\n",
       "      <th></th>\n",
       "      <th>titleId</th>\n",
       "      <th>ordering</th>\n",
       "      <th>title</th>\n",
       "      <th>region</th>\n",
       "      <th>language</th>\n",
       "      <th>types</th>\n",
       "      <th>attributes</th>\n",
       "      <th>isOriginalTitle</th>\n",
       "    </tr>\n",
       "  </thead>\n",
       "  <tbody>\n",
       "    <tr>\n",
       "      <th>0</th>\n",
       "      <td>tt0000001</td>\n",
       "      <td>1</td>\n",
       "      <td>Карменсіта</td>\n",
       "      <td>UA</td>\n",
       "      <td>\\N</td>\n",
       "      <td>imdbDisplay</td>\n",
       "      <td>\\N</td>\n",
       "      <td>0</td>\n",
       "    </tr>\n",
       "    <tr>\n",
       "      <th>1</th>\n",
       "      <td>tt0000001</td>\n",
       "      <td>2</td>\n",
       "      <td>Carmencita</td>\n",
       "      <td>DE</td>\n",
       "      <td>\\N</td>\n",
       "      <td>\\N</td>\n",
       "      <td>literal title</td>\n",
       "      <td>0</td>\n",
       "    </tr>\n",
       "    <tr>\n",
       "      <th>2</th>\n",
       "      <td>tt0000001</td>\n",
       "      <td>3</td>\n",
       "      <td>Carmencita - spanyol tánc</td>\n",
       "      <td>HU</td>\n",
       "      <td>\\N</td>\n",
       "      <td>imdbDisplay</td>\n",
       "      <td>\\N</td>\n",
       "      <td>0</td>\n",
       "    </tr>\n",
       "    <tr>\n",
       "      <th>3</th>\n",
       "      <td>tt0000001</td>\n",
       "      <td>4</td>\n",
       "      <td>Καρμενσίτα</td>\n",
       "      <td>GR</td>\n",
       "      <td>\\N</td>\n",
       "      <td>imdbDisplay</td>\n",
       "      <td>\\N</td>\n",
       "      <td>0</td>\n",
       "    </tr>\n",
       "    <tr>\n",
       "      <th>4</th>\n",
       "      <td>tt0000001</td>\n",
       "      <td>5</td>\n",
       "      <td>Карменсита</td>\n",
       "      <td>RU</td>\n",
       "      <td>\\N</td>\n",
       "      <td>imdbDisplay</td>\n",
       "      <td>\\N</td>\n",
       "      <td>0</td>\n",
       "    </tr>\n",
       "  </tbody>\n",
       "</table>\n",
       "</div>"
      ],
      "text/plain": [
       "     titleId  ordering                      title region language  \\\n",
       "0  tt0000001         1                 Карменсіта     UA       \\N   \n",
       "1  tt0000001         2                 Carmencita     DE       \\N   \n",
       "2  tt0000001         3  Carmencita - spanyol tánc     HU       \\N   \n",
       "3  tt0000001         4                 Καρμενσίτα     GR       \\N   \n",
       "4  tt0000001         5                 Карменсита     RU       \\N   \n",
       "\n",
       "         types     attributes isOriginalTitle  \n",
       "0  imdbDisplay             \\N               0  \n",
       "1           \\N  literal title               0  \n",
       "2  imdbDisplay             \\N               0  \n",
       "3  imdbDisplay             \\N               0  \n",
       "4  imdbDisplay             \\N               0  "
      ]
     },
     "execution_count": 90,
     "metadata": {},
     "output_type": "execute_result"
    },
    {
     "data": {
      "text/html": [
       "<div>\n",
       "<style scoped>\n",
       "    .dataframe tbody tr th:only-of-type {\n",
       "        vertical-align: middle;\n",
       "    }\n",
       "\n",
       "    .dataframe tbody tr th {\n",
       "        vertical-align: top;\n",
       "    }\n",
       "\n",
       "    .dataframe thead th {\n",
       "        text-align: right;\n",
       "    }\n",
       "</style>\n",
       "<table border=\"1\" class=\"dataframe\">\n",
       "  <thead>\n",
       "    <tr style=\"text-align: right;\">\n",
       "      <th></th>\n",
       "      <th>Release Date</th>\n",
       "      <th>Movie</th>\n",
       "      <th>Production Budget</th>\n",
       "      <th>Domestic Gross</th>\n",
       "      <th>Worldwide Gross</th>\n",
       "    </tr>\n",
       "  </thead>\n",
       "  <tbody>\n",
       "    <tr>\n",
       "      <th>5809</th>\n",
       "      <td>2004-10-08</td>\n",
       "      <td>Primer</td>\n",
       "      <td>7000</td>\n",
       "      <td>424760</td>\n",
       "      <td>841926</td>\n",
       "    </tr>\n",
       "    <tr>\n",
       "      <th>5810</th>\n",
       "      <td>2006-05-26</td>\n",
       "      <td>Cavite</td>\n",
       "      <td>7000</td>\n",
       "      <td>70071</td>\n",
       "      <td>71644</td>\n",
       "    </tr>\n",
       "    <tr>\n",
       "      <th>5813</th>\n",
       "      <td>1999-04-02</td>\n",
       "      <td>Following</td>\n",
       "      <td>6000</td>\n",
       "      <td>48482</td>\n",
       "      <td>240495</td>\n",
       "    </tr>\n",
       "    <tr>\n",
       "      <th>5814</th>\n",
       "      <td>2005-07-13</td>\n",
       "      <td>Return to the Land of Wonders</td>\n",
       "      <td>5000</td>\n",
       "      <td>1338</td>\n",
       "      <td>1338</td>\n",
       "    </tr>\n",
       "    <tr>\n",
       "      <th>5816</th>\n",
       "      <td>2005-08-05</td>\n",
       "      <td>My Date With Drew</td>\n",
       "      <td>1100</td>\n",
       "      <td>181041</td>\n",
       "      <td>181041</td>\n",
       "    </tr>\n",
       "  </tbody>\n",
       "</table>\n",
       "</div>"
      ],
      "text/plain": [
       "     Release Date                          Movie  Production Budget  \\\n",
       "5809   2004-10-08                         Primer               7000   \n",
       "5810   2006-05-26                         Cavite               7000   \n",
       "5813   1999-04-02                      Following               6000   \n",
       "5814   2005-07-13  Return to the Land of Wonders               5000   \n",
       "5816   2005-08-05              My Date With Drew               1100   \n",
       "\n",
       "      Domestic Gross  Worldwide Gross  \n",
       "5809          424760           841926  \n",
       "5810           70071            71644  \n",
       "5813           48482           240495  \n",
       "5814            1338             1338  \n",
       "5816          181041           181041  "
      ]
     },
     "execution_count": 90,
     "metadata": {},
     "output_type": "execute_result"
    },
    {
     "data": {
      "text/html": [
       "<div>\n",
       "<style scoped>\n",
       "    .dataframe tbody tr th:only-of-type {\n",
       "        vertical-align: middle;\n",
       "    }\n",
       "\n",
       "    .dataframe tbody tr th {\n",
       "        vertical-align: top;\n",
       "    }\n",
       "\n",
       "    .dataframe thead th {\n",
       "        text-align: right;\n",
       "    }\n",
       "</style>\n",
       "<table border=\"1\" class=\"dataframe\">\n",
       "  <thead>\n",
       "    <tr style=\"text-align: right;\">\n",
       "      <th></th>\n",
       "      <th>tconst</th>\n",
       "      <th>titleType</th>\n",
       "      <th>primaryTitle</th>\n",
       "      <th>originalTitle</th>\n",
       "      <th>isAdult</th>\n",
       "      <th>startYear</th>\n",
       "      <th>endYear</th>\n",
       "      <th>runtimeMinutes</th>\n",
       "      <th>genres</th>\n",
       "    </tr>\n",
       "  </thead>\n",
       "  <tbody>\n",
       "    <tr>\n",
       "      <th>8648758</th>\n",
       "      <td>tt9916848</td>\n",
       "      <td>tvEpisode</td>\n",
       "      <td>Episode #3.17</td>\n",
       "      <td>Episode #3.17</td>\n",
       "      <td>0</td>\n",
       "      <td>2010</td>\n",
       "      <td>\\N</td>\n",
       "      <td>\\N</td>\n",
       "      <td>Action,Drama,Family</td>\n",
       "    </tr>\n",
       "    <tr>\n",
       "      <th>8648759</th>\n",
       "      <td>tt9916850</td>\n",
       "      <td>tvEpisode</td>\n",
       "      <td>Episode #3.19</td>\n",
       "      <td>Episode #3.19</td>\n",
       "      <td>0</td>\n",
       "      <td>2010</td>\n",
       "      <td>\\N</td>\n",
       "      <td>\\N</td>\n",
       "      <td>Action,Drama,Family</td>\n",
       "    </tr>\n",
       "    <tr>\n",
       "      <th>8648760</th>\n",
       "      <td>tt9916852</td>\n",
       "      <td>tvEpisode</td>\n",
       "      <td>Episode #3.20</td>\n",
       "      <td>Episode #3.20</td>\n",
       "      <td>0</td>\n",
       "      <td>2010</td>\n",
       "      <td>\\N</td>\n",
       "      <td>\\N</td>\n",
       "      <td>Action,Drama,Family</td>\n",
       "    </tr>\n",
       "    <tr>\n",
       "      <th>8648761</th>\n",
       "      <td>tt9916856</td>\n",
       "      <td>short</td>\n",
       "      <td>The Wind</td>\n",
       "      <td>The Wind</td>\n",
       "      <td>0</td>\n",
       "      <td>2015</td>\n",
       "      <td>\\N</td>\n",
       "      <td>27</td>\n",
       "      <td>Short</td>\n",
       "    </tr>\n",
       "    <tr>\n",
       "      <th>8648762</th>\n",
       "      <td>tt9916880</td>\n",
       "      <td>tvEpisode</td>\n",
       "      <td>Horrid Henry Knows It All</td>\n",
       "      <td>Horrid Henry Knows It All</td>\n",
       "      <td>0</td>\n",
       "      <td>2014</td>\n",
       "      <td>\\N</td>\n",
       "      <td>10</td>\n",
       "      <td>Adventure,Animation,Comedy</td>\n",
       "    </tr>\n",
       "  </tbody>\n",
       "</table>\n",
       "</div>"
      ],
      "text/plain": [
       "            tconst  titleType               primaryTitle  \\\n",
       "8648758  tt9916848  tvEpisode              Episode #3.17   \n",
       "8648759  tt9916850  tvEpisode              Episode #3.19   \n",
       "8648760  tt9916852  tvEpisode              Episode #3.20   \n",
       "8648761  tt9916856      short                   The Wind   \n",
       "8648762  tt9916880  tvEpisode  Horrid Henry Knows It All   \n",
       "\n",
       "                     originalTitle isAdult startYear endYear runtimeMinutes  \\\n",
       "8648758              Episode #3.17       0      2010      \\N             \\N   \n",
       "8648759              Episode #3.19       0      2010      \\N             \\N   \n",
       "8648760              Episode #3.20       0      2010      \\N             \\N   \n",
       "8648761                   The Wind       0      2015      \\N             27   \n",
       "8648762  Horrid Henry Knows It All       0      2014      \\N             10   \n",
       "\n",
       "                             genres  \n",
       "8648758         Action,Drama,Family  \n",
       "8648759         Action,Drama,Family  \n",
       "8648760         Action,Drama,Family  \n",
       "8648761                       Short  \n",
       "8648762  Adventure,Animation,Comedy  "
      ]
     },
     "execution_count": 90,
     "metadata": {},
     "output_type": "execute_result"
    },
    {
     "data": {
      "text/html": [
       "<div>\n",
       "<style scoped>\n",
       "    .dataframe tbody tr th:only-of-type {\n",
       "        vertical-align: middle;\n",
       "    }\n",
       "\n",
       "    .dataframe tbody tr th {\n",
       "        vertical-align: top;\n",
       "    }\n",
       "\n",
       "    .dataframe thead th {\n",
       "        text-align: right;\n",
       "    }\n",
       "</style>\n",
       "<table border=\"1\" class=\"dataframe\">\n",
       "  <thead>\n",
       "    <tr style=\"text-align: right;\">\n",
       "      <th></th>\n",
       "      <th>titleId</th>\n",
       "      <th>ordering</th>\n",
       "      <th>title</th>\n",
       "      <th>region</th>\n",
       "      <th>language</th>\n",
       "      <th>types</th>\n",
       "      <th>attributes</th>\n",
       "      <th>isOriginalTitle</th>\n",
       "    </tr>\n",
       "  </thead>\n",
       "  <tbody>\n",
       "    <tr>\n",
       "      <th>30770399</th>\n",
       "      <td>tt9916852</td>\n",
       "      <td>5</td>\n",
       "      <td>Episódio #3.20</td>\n",
       "      <td>PT</td>\n",
       "      <td>pt</td>\n",
       "      <td>\\N</td>\n",
       "      <td>\\N</td>\n",
       "      <td>0</td>\n",
       "    </tr>\n",
       "    <tr>\n",
       "      <th>30770400</th>\n",
       "      <td>tt9916852</td>\n",
       "      <td>6</td>\n",
       "      <td>Episodio #3.20</td>\n",
       "      <td>IT</td>\n",
       "      <td>it</td>\n",
       "      <td>\\N</td>\n",
       "      <td>\\N</td>\n",
       "      <td>0</td>\n",
       "    </tr>\n",
       "    <tr>\n",
       "      <th>30770401</th>\n",
       "      <td>tt9916852</td>\n",
       "      <td>7</td>\n",
       "      <td>एपिसोड #3.20</td>\n",
       "      <td>IN</td>\n",
       "      <td>hi</td>\n",
       "      <td>\\N</td>\n",
       "      <td>\\N</td>\n",
       "      <td>0</td>\n",
       "    </tr>\n",
       "    <tr>\n",
       "      <th>30770402</th>\n",
       "      <td>tt9916856</td>\n",
       "      <td>1</td>\n",
       "      <td>The Wind</td>\n",
       "      <td>DE</td>\n",
       "      <td>\\N</td>\n",
       "      <td>imdbDisplay</td>\n",
       "      <td>\\N</td>\n",
       "      <td>0</td>\n",
       "    </tr>\n",
       "    <tr>\n",
       "      <th>30770403</th>\n",
       "      <td>tt9916856</td>\n",
       "      <td>2</td>\n",
       "      <td>The Wind</td>\n",
       "      <td>\\N</td>\n",
       "      <td>\\N</td>\n",
       "      <td>original</td>\n",
       "      <td>\\N</td>\n",
       "      <td>1</td>\n",
       "    </tr>\n",
       "  </tbody>\n",
       "</table>\n",
       "</div>"
      ],
      "text/plain": [
       "            titleId  ordering           title region language        types  \\\n",
       "30770399  tt9916852         5  Episódio #3.20     PT       pt           \\N   \n",
       "30770400  tt9916852         6  Episodio #3.20     IT       it           \\N   \n",
       "30770401  tt9916852         7    एपिसोड #3.20     IN       hi           \\N   \n",
       "30770402  tt9916856         1        The Wind     DE       \\N  imdbDisplay   \n",
       "30770403  tt9916856         2        The Wind     \\N       \\N     original   \n",
       "\n",
       "         attributes isOriginalTitle  \n",
       "30770399         \\N               0  \n",
       "30770400         \\N               0  \n",
       "30770401         \\N               0  \n",
       "30770402         \\N               0  \n",
       "30770403         \\N               1  "
      ]
     },
     "execution_count": 90,
     "metadata": {},
     "output_type": "execute_result"
    }
   ],
   "source": [
    "# TODO: Use the info() method to determine to inspect the variable (column) names, the number of non-null values,\n",
    "#       and the data types for each variable.\n",
    "movie_budget.info() \n",
    "title_basics.info() \n",
    "title_akas.info()\n",
    "\n",
    "# TODO: Use the head() method to inspect the first five (or more) rows of the data\n",
    "movie_budget.head() \n",
    "title_basics.head() \n",
    "title_akas.head()\n",
    "\n",
    "# TODO: Use the tail() method to inspect the last five (or more) rows of the data\n",
    "movie_budget.tail() \n",
    "title_basics.tail() \n",
    "title_akas.tail()\n"
   ]
  },
  {
   "cell_type": "code",
   "execution_count": 91,
   "metadata": {},
   "outputs": [
    {
     "data": {
      "text/plain": [
       "(5281, 5)"
      ]
     },
     "execution_count": 91,
     "metadata": {},
     "output_type": "execute_result"
    },
    {
     "data": {
      "text/plain": [
       "(8648763, 9)"
      ]
     },
     "execution_count": 91,
     "metadata": {},
     "output_type": "execute_result"
    },
    {
     "data": {
      "text/plain": [
       "(30770404, 8)"
      ]
     },
     "execution_count": 91,
     "metadata": {},
     "output_type": "execute_result"
    }
   ],
   "source": [
    "movie_budget.shape\n",
    "title_basics.shape\n",
    "title_akas.shape"
   ]
  },
  {
   "cell_type": "markdown",
   "metadata": {},
   "source": [
    "<div class=\"alert alert-block alert-danger\"><b>STOP HERE for your Project Proposal assignment. Submit your (1) original data file(s) along with (2) the completed notebook up to this point, and (3) the html file for grading and approval.</b></div>"
   ]
  },
  {
   "cell_type": "markdown",
   "metadata": {},
   "source": [
    "<div class=\"alert alert-block alert-warning\"><b>Instructor Feedback and Approval (3 pts)</b>: Your instructor will provide feedback in either the cell below this or via Canvas. You can expect one of the following point values for this portion.\n",
    "\n",
    "<b>3 pts</b> - if your project goals and data set are both approved.<br>\n",
    "<b>2 pts</b> - if your data set is approved but changes to your project goals (Step 3) are needed.<br>\n",
    "<b>1 pt</b> - if your project goals are approved but your data set is not approved.<br>\n",
    "<b>0 pts</b> - if neither your data set nor your project goals are approved.<br><br>\n",
    "    \n",
    "<i><u>As needed, follow your instructor's feeback and guidance to get on track for the remaining portions of the EDA project.</u></i>\n",
    "</div>"
   ]
  },
  {
   "cell_type": "code",
   "execution_count": null,
   "metadata": {},
   "outputs": [],
   "source": []
  },
  {
   "cell_type": "markdown",
   "metadata": {},
   "source": [
    "# EDA Phase 1"
   ]
  },
  {
   "cell_type": "markdown",
   "metadata": {},
   "source": [
    "<div class=\"alert alert-block alert-info\">The overall goal of this assignment is to take all necessary steps to inspect the quality of your data and prepare the data according to your needs. For information and resources on the process of Exploratory Data Analysis (EDA), you should explore the <b><u>EDA Project Resources Module</u></b> in Canvas.\n",
    "\n",
    "Once you’ve read through the information provided in that module and have a comfortable understanding of EDA using Python, complete steps 6 through 10 listed below to satisfy the requirements for your EDA Phase 1 assignment. **Remember to convert code cells provided to markdown cells for any typed responses to questions.**</div>"
   ]
  },
  {
   "cell_type": "markdown",
   "metadata": {},
   "source": [
    "<div class=\"alert alert-block alert-success\"><b>Step 6 (2 pts)</b>: Begin by elaborating in more detail from the previous assignment on why you chose this data?<br>\n",
    "    \n",
    "1. Explain what you hope to learn from this data. \n",
    "2. Do you have a hunch about what this data will reveal? (The answer to this question will be used in the Introduction section of your EDA report.)\n",
    "</div>"
   ]
  },
  {
   "cell_type": "markdown",
   "metadata": {},
   "source": [
    "1. I'd like to know if film studios are intentional about their releases with regard to the seasons people are most \n",
    "   are most inclined to go to movie theaters.\n",
    "2. I have a hunch that the film industry in North America generates most of their revenue during the winter. "
   ]
  },
  {
   "cell_type": "markdown",
   "metadata": {},
   "source": [
    "<div class=\"alert alert-block alert-success\"><b>Step 7 (2 pts)</b>: Discuss the popluation and the sample:<br>\n",
    "    \n",
    "1. What is the population being represented by the data you’ve chosen? \n",
    "2. What is the total sample size?\n",
    "</div>"
   ]
  },
  {
   "cell_type": "markdown",
   "metadata": {},
   "source": [
    "1. Film sales in the U.S\n",
    "2. 6222 based on the movie budgets dataframe, title_basics sample size is 8648763 and title_akas sample size is          30770404 but data analysis is will be determined by films with availale budget and gross figures"
   ]
  },
  {
   "cell_type": "markdown",
   "metadata": {},
   "source": [
    "<div class=\"alert alert-block alert-success\"><b>Step 8 (2 pts)</b>: Describe how the data was collected. For example, is this a random sample? Are sampling weights used with the data?</div>"
   ]
  },
  {
   "cell_type": "markdown",
   "metadata": {},
   "source": [
    "The data was collected from IMDB and The numbers. IMDB's list is extensive and therefore inclusive of every film with\n",
    "accreditation on their platform. Data from The Numbers, however, is based on films with the \"biggest\" production budget, domestic, and worldwide gross. It is, however, important to note that \"The Number\" data set is reflective of data where movie figures are available and therefore may include some bias since the data provided isn't exhaustive of every film ever made and their respective financial data. The heterogeneity of the data suggests the sample is partially random therefore a stratified random sample."
   ]
  },
  {
   "cell_type": "markdown",
   "metadata": {},
   "source": [
    "<div class=\"alert alert-block alert-success\"><b>Step 9 (4 pts)</b>: In the Project Proposal assignment you used the info(&nbsp;) method to inspect the variables, their data types, and the number of non-null values. Using that information as a guide, provide definitions of each of your variables and their corresponding data types, i.e. a data dictionary. Also indicate which variables will be used for your purposes.</div>"
   ]
  },
  {
   "cell_type": "markdown",
   "metadata": {},
   "source": [
    "# **_Data Dictionary:_**\n",
    "\n",
    "\n",
    "### NOTE: \n",
    "**_Most variables were imported as objects but will be converted to their respective data types as shown the data dictionary._**\n",
    "\n",
    "#### Additional Notes:\n",
    "##### * variables with Included = 'Y' symbol denote variables that will be used in this analysis\n",
    "##### * variables with Included = 'N' symbol denote variables that will not be used in this analysis\n",
    "\n",
    "#### movie_budget:\n",
    "\n",
    "| Column Name       | Column Description                                        | Data Type | Included |\n",
    "|-------------------|-----------------------------------------------------------|-----------|----------|\n",
    "| Release Date      | date which the movie was released                         | date      | Y        |\n",
    "| Movie             | Name of the movie                                         | str       | Y        |\n",
    "| Production Budget | Cost to make the movie                                    | int       | Y        |\n",
    "| Domestic Gross    | the gross or total amount the movie produced domestically | int       | Y        |\n",
    "| Worldwide Gross   | the gross or total amount the movie produced worldwide    | int       | Y        |\n",
    "\n",
    "* All the columns in the movie_budget df are crucial to analysis as they pertain to either date the film was released\n",
    "  or the financials of the movies which are the primary variables used in this EDA\n",
    "\n",
    "#### title_basics: As described by [IMDB](https://www.imdb.com/interfaces/) \n",
    "\n",
    "| Column Name    | Column Description                                                                                         | Data Type | Included |\n",
    "|----------------|------------------------------------------------------------------------------------------------------------|-----------|----------|\n",
    "| tconst         | alphanumeric unique identifier of the title                                                                | str       | Y        |\n",
    "| titleType      | the type/format of the title                                                                               | str       | Y        |\n",
    "| primaryTitle   | the more popular title / the title used by the filmmakers on promotional materials at the point of release | str       | Y        |\n",
    "| originalTitle  | original title, in the original language                                                                   | str       | Y        |\n",
    "| isAdult        | 0: non-adult title; 1: adult title                                                                         | int       | N        |\n",
    "| startYear      | represents the release year of a title. In the case of TV Series, it is the series start year              | int       | N        |\n",
    "| endYear        | TV Series end year. ‘\\N’ for all other title types                                                         | int       | N        |\n",
    "| runtimeMinutes | primary runtime of the title, in minutes                                                                   | int       | N        |\n",
    "| genres         | includes up to three genres associated with the title                                                      | str       | N        |\n",
    "\n",
    "\n",
    "* tconst is IMBDs unique identifier for movies\n",
    "* titletype will be used to exclude any format that is not a movie\n",
    "* Title fields will be used to compare titles with The Numbers data set.\n",
    "* Start year is the release date of the film unless the format is != Movie then it signifies TV show, short etc.\n",
    "\n",
    "\n",
    "#### title_akas: As described by [IMDB](https://www.imdb.com/interfaces/) \n",
    "\n",
    "| Column Name     | Column Description                                                                                                                                                                                                                              | Data Type | Included |\n",
    "|-----------------|-------------------------------------------------------------------------------------------------------------------------------------------------------------------------------------------------------------------------------------------------|-----------|----------|\n",
    "| titleId         | a tconst, an alphanumeric unique identifier of the title                                                                                                                                                                                        | str       | Y        |\n",
    "| ordering        | a number to uniquely identify rows for a given titleId                                                                                                                                                                                          | int       | N        |\n",
    "| title           | the localized title                                                                                                                                                                                                                             | str       | Y        |\n",
    "| region          | the region for this version of the title                                                                                                                                                                                                        | str       | Y        |\n",
    "| language        | the language of the title                                                                                                                                                                                                                       | str       | N        |\n",
    "| types           | Enumerated set of attributes for this <br>alternative title. One or more of the following: \"alternative\", \"dvd\", <br>\"festival\", \"tv\", \"video\", \"working\", \"original\", \"imdbDisplay\". New <br>values may be added in the future without warning | str       | N        |\n",
    "| attributes      | Additional terms to describe this alternative title, not enumerated                                                                                                                                                                             | str       | N        |\n",
    "| isOriginalTitle | 0: not original title; 1: original title                                                                                                                                                                                                        | int       | N        |\n",
    "\n",
    "* title can also be used to compare movie titles with The Numbers dataset\n",
    "* region will be used to eliminate records that are not within the parameters of this analysis\n",
    "\n"
   ]
  },
  {
   "cell_type": "markdown",
   "metadata": {},
   "source": [
    "<div class=\"alert alert-block alert-success\"><b>Step 10 (10 pts)</b>: For full credit in this problem you'll want to <i><u>take all necessary steps to report on the quality of the data</u></i> and <i><u>clean the data accordingly</u></i>. Some things to consider while doing this are listed below. <b>Depending on your data and goals, there may be additional steps needed than those listed here.</b>\n",
    "    \n",
    "1. Are there rows with missing or inconsistent values? If so, eliminate those rows from your data where appropriate.\n",
    "2. Are there any outliers or duplicate rows? If so, eliminate those rows from your data where appropriate. \n",
    "At each stage of cleaning the data, state how many rows were eliminated.\n",
    "3. Are you using all columns (variables) in the data? If not, are you eliminating those columns?\n",
    "4. Consider some type of visual display such as a boxplot to determine any outliers. Do any outliers need removed? If so, how many were removed?\n",
    "\n",
    "At each stage of cleaning the data, state how many rows were eliminated. <b><u><i>It is good practice to get the shape of the data before and after each step in cleaning the data and add typed explanations (in separate markdown cells) of the steps taken to clean the data.</i></u></b><br></div>\n",
    "    \n",
    "<div class=\"alert alert-block alert-info\">Include the rest of your work below and insert cells where needed.</div>"
   ]
  },
  {
   "cell_type": "markdown",
   "metadata": {},
   "source": [
    "### movie_budget"
   ]
  },
  {
   "cell_type": "code",
   "execution_count": 30,
   "metadata": {
    "scrolled": false
   },
   "outputs": [
    {
     "data": {
      "text/plain": [
       "(5817, 5)"
      ]
     },
     "execution_count": 30,
     "metadata": {},
     "output_type": "execute_result"
    },
    {
     "data": {
      "text/plain": [
       "Release Date  Movie                                       Production Budget  Domestic Gross  Worldwide Gross\n",
       "1/1/1959      Solomon and Sheba                            $5,000,000         $11,000,000     $11,016,959       1\n",
       "6/15/1990     Dick Tracy                                   $47,000,000        $103,738,726    $162,738,726      1\n",
       "6/15/1977     A Bridge Too Far                             $26,000,000        $50,800,000     $50,800,000       1\n",
       "6/15/1960     The Apartment                                $3,000,000         $18,600,000     $24,600,000       1\n",
       "6/15/1905     The Nutcracker                               $19,000,000        $2,119,994      $2,119,994        1\n",
       "                                                                                                               ..\n",
       "12/3/2015     Under sandet                                 $6,000,000         $434,640        $4,959,039        1\n",
       "              Speak No Evil                                $150,000           $0              $32,927           1\n",
       "              Chiamatemi Francesco - Il papa della gente   $15,000,000        $0              $3,925,769        1\n",
       "12/3/2014     Wild                                         $15,000,000        $37,880,356     $52,460,543       1\n",
       "Unknown       b                                            $70,000,000        $0              $0                1\n",
       "Length: 5817, dtype: int64"
      ]
     },
     "execution_count": 30,
     "metadata": {},
     "output_type": "execute_result"
    }
   ],
   "source": [
    "movie_budget.shape\n",
    "movie_budget.value_counts()"
   ]
  },
  {
   "cell_type": "code",
   "execution_count": 36,
   "metadata": {
    "scrolled": true
   },
   "outputs": [
    {
     "data": {
      "text/html": [
       "<div>\n",
       "<style scoped>\n",
       "    .dataframe tbody tr th:only-of-type {\n",
       "        vertical-align: middle;\n",
       "    }\n",
       "\n",
       "    .dataframe tbody tr th {\n",
       "        vertical-align: top;\n",
       "    }\n",
       "\n",
       "    .dataframe thead th {\n",
       "        text-align: right;\n",
       "    }\n",
       "</style>\n",
       "<table border=\"1\" class=\"dataframe\">\n",
       "  <thead>\n",
       "    <tr style=\"text-align: right;\">\n",
       "      <th></th>\n",
       "      <th>Release Date</th>\n",
       "      <th>Movie</th>\n",
       "      <th>Production Budget</th>\n",
       "      <th>Domestic Gross</th>\n",
       "      <th>Worldwide Gross</th>\n",
       "    </tr>\n",
       "  </thead>\n",
       "  <tbody>\n",
       "    <tr>\n",
       "      <th>247</th>\n",
       "      <td>Unknown</td>\n",
       "      <td>Desert Warrior</td>\n",
       "      <td>$140,000,000</td>\n",
       "      <td>$0</td>\n",
       "      <td>$0</td>\n",
       "    </tr>\n",
       "    <tr>\n",
       "      <th>811</th>\n",
       "      <td>Unknown</td>\n",
       "      <td>b</td>\n",
       "      <td>$70,000,000</td>\n",
       "      <td>$0</td>\n",
       "      <td>$0</td>\n",
       "    </tr>\n",
       "    <tr>\n",
       "      <th>1290</th>\n",
       "      <td>Unknown</td>\n",
       "      <td>Hannibal the Conqueror</td>\n",
       "      <td>$50,000,000</td>\n",
       "      <td>$0</td>\n",
       "      <td>$0</td>\n",
       "    </tr>\n",
       "    <tr>\n",
       "      <th>1462</th>\n",
       "      <td>Unknown</td>\n",
       "      <td>Les Bronzés 3: amis pour la vie</td>\n",
       "      <td>$42,000,000</td>\n",
       "      <td>$0</td>\n",
       "      <td>$83,833,602</td>\n",
       "    </tr>\n",
       "    <tr>\n",
       "      <th>1650</th>\n",
       "      <td>Unknown</td>\n",
       "      <td>Down Under Cover</td>\n",
       "      <td>$40,000,000</td>\n",
       "      <td>$0</td>\n",
       "      <td>$0</td>\n",
       "    </tr>\n",
       "    <tr>\n",
       "      <th>...</th>\n",
       "      <td>...</td>\n",
       "      <td>...</td>\n",
       "      <td>...</td>\n",
       "      <td>...</td>\n",
       "      <td>...</td>\n",
       "    </tr>\n",
       "    <tr>\n",
       "      <th>5790</th>\n",
       "      <td>Unknown</td>\n",
       "      <td>Flywheel</td>\n",
       "      <td>$20,000</td>\n",
       "      <td>$0</td>\n",
       "      <td>$0</td>\n",
       "    </tr>\n",
       "    <tr>\n",
       "      <th>5796</th>\n",
       "      <td>Unknown</td>\n",
       "      <td>Stories of Our Lives</td>\n",
       "      <td>$15,000</td>\n",
       "      <td>$0</td>\n",
       "      <td>$0</td>\n",
       "    </tr>\n",
       "    <tr>\n",
       "      <th>5799</th>\n",
       "      <td>Unknown</td>\n",
       "      <td>Tin Can Man</td>\n",
       "      <td>$12,000</td>\n",
       "      <td>$0</td>\n",
       "      <td>$0</td>\n",
       "    </tr>\n",
       "    <tr>\n",
       "      <th>5811</th>\n",
       "      <td>Unknown</td>\n",
       "      <td>The Mongol King</td>\n",
       "      <td>$7,000</td>\n",
       "      <td>$900</td>\n",
       "      <td>$900</td>\n",
       "    </tr>\n",
       "    <tr>\n",
       "      <th>5812</th>\n",
       "      <td>Unknown</td>\n",
       "      <td>Red 11</td>\n",
       "      <td>$7,000</td>\n",
       "      <td>$0</td>\n",
       "      <td>$0</td>\n",
       "    </tr>\n",
       "  </tbody>\n",
       "</table>\n",
       "<p>90 rows × 5 columns</p>\n",
       "</div>"
      ],
      "text/plain": [
       "     Release Date                            Movie Production Budget  \\\n",
       "247       Unknown                   Desert Warrior      $140,000,000   \n",
       "811       Unknown                                b       $70,000,000   \n",
       "1290      Unknown           Hannibal the Conqueror       $50,000,000   \n",
       "1462      Unknown  Les Bronzés 3: amis pour la vie       $42,000,000   \n",
       "1650      Unknown                 Down Under Cover       $40,000,000   \n",
       "...           ...                              ...               ...   \n",
       "5790      Unknown                         Flywheel           $20,000   \n",
       "5796      Unknown             Stories of Our Lives           $15,000   \n",
       "5799      Unknown                      Tin Can Man           $12,000   \n",
       "5811      Unknown                  The Mongol King            $7,000   \n",
       "5812      Unknown                           Red 11            $7,000   \n",
       "\n",
       "     Domestic Gross Worldwide Gross  \n",
       "247              $0              $0  \n",
       "811              $0              $0  \n",
       "1290             $0              $0  \n",
       "1462             $0     $83,833,602  \n",
       "1650             $0              $0  \n",
       "...             ...             ...  \n",
       "5790             $0              $0  \n",
       "5796             $0              $0  \n",
       "5799             $0              $0  \n",
       "5811           $900            $900  \n",
       "5812             $0              $0  \n",
       "\n",
       "[90 rows x 5 columns]"
      ]
     },
     "execution_count": 36,
     "metadata": {},
     "output_type": "execute_result"
    }
   ],
   "source": [
    "unkDates = movie_budget.loc[movie_budget['Release Date'] == 'Unknown']\n",
    "unkDates"
   ]
  },
  {
   "cell_type": "code",
   "execution_count": 37,
   "metadata": {},
   "outputs": [
    {
     "data": {
      "text/plain": [
       "(5727, 5)"
      ]
     },
     "execution_count": 37,
     "metadata": {},
     "output_type": "execute_result"
    }
   ],
   "source": [
    "# Remove rows with Release Date = Unknown. Should drop 90 rows\n",
    "movie_budget = movie_budget.drop(unkDates.index)\n",
    "movie_budget.shape"
   ]
  },
  {
   "cell_type": "code",
   "execution_count": 38,
   "metadata": {
    "scrolled": true
   },
   "outputs": [],
   "source": [
    "# change the release date column to date data types\n",
    "movie_budget['Release Date'] = movie_budget['Release Date'].astype('datetime64[ns]') "
   ]
  },
  {
   "cell_type": "code",
   "execution_count": 41,
   "metadata": {},
   "outputs": [],
   "source": [
    "# Convert Production Budget to int and remove nondigit characters\n",
    "movie_budget['Production Budget'] = movie_budget['Production Budget'].replace(\"[$,]\", \"\", regex=True).astype(int)"
   ]
  },
  {
   "cell_type": "code",
   "execution_count": 44,
   "metadata": {
    "scrolled": true
   },
   "outputs": [],
   "source": [
    "# Convert Domestic Gross to int and remove nondigit characters\n",
    "movie_budget['Domestic Gross'] = movie_budget['Domestic Gross'].replace(\"[$,]\", \"\", regex=True).astype(int)"
   ]
  },
  {
   "cell_type": "code",
   "execution_count": 45,
   "metadata": {},
   "outputs": [],
   "source": [
    "# Convert Worldwide Gross to int and remove nondigit characters\n",
    "movie_budget['Worldwide Gross'] = movie_budget['Worldwide Gross'].replace(\"[$,]\", \"\", regex=True).astype(int)"
   ]
  },
  {
   "cell_type": "code",
   "execution_count": 46,
   "metadata": {},
   "outputs": [
    {
     "data": {
      "text/html": [
       "<div>\n",
       "<style scoped>\n",
       "    .dataframe tbody tr th:only-of-type {\n",
       "        vertical-align: middle;\n",
       "    }\n",
       "\n",
       "    .dataframe tbody tr th {\n",
       "        vertical-align: top;\n",
       "    }\n",
       "\n",
       "    .dataframe thead th {\n",
       "        text-align: right;\n",
       "    }\n",
       "</style>\n",
       "<table border=\"1\" class=\"dataframe\">\n",
       "  <thead>\n",
       "    <tr style=\"text-align: right;\">\n",
       "      <th></th>\n",
       "      <th>Release Date</th>\n",
       "      <th>Movie</th>\n",
       "      <th>Production Budget</th>\n",
       "      <th>Domestic Gross</th>\n",
       "      <th>Worldwide Gross</th>\n",
       "    </tr>\n",
       "  </thead>\n",
       "  <tbody>\n",
       "    <tr>\n",
       "      <th>0</th>\n",
       "      <td>2019-04-23</td>\n",
       "      <td>Avengers: Endgame</td>\n",
       "      <td>400000000</td>\n",
       "      <td>858373000</td>\n",
       "      <td>2797800564</td>\n",
       "    </tr>\n",
       "    <tr>\n",
       "      <th>1</th>\n",
       "      <td>2011-05-20</td>\n",
       "      <td>Pirates of the Caribbean: On Stranger Tides</td>\n",
       "      <td>379000000</td>\n",
       "      <td>241071802</td>\n",
       "      <td>1045713802</td>\n",
       "    </tr>\n",
       "    <tr>\n",
       "      <th>2</th>\n",
       "      <td>2015-04-22</td>\n",
       "      <td>Avengers: Age of Ultron</td>\n",
       "      <td>365000000</td>\n",
       "      <td>459005868</td>\n",
       "      <td>1395316979</td>\n",
       "    </tr>\n",
       "    <tr>\n",
       "      <th>3</th>\n",
       "      <td>2015-12-16</td>\n",
       "      <td>Star Wars Ep. VII: The Force Awakens</td>\n",
       "      <td>306000000</td>\n",
       "      <td>936662225</td>\n",
       "      <td>2064615817</td>\n",
       "    </tr>\n",
       "    <tr>\n",
       "      <th>4</th>\n",
       "      <td>2018-04-25</td>\n",
       "      <td>Avengers: Infinity War</td>\n",
       "      <td>300000000</td>\n",
       "      <td>678815482</td>\n",
       "      <td>2048359754</td>\n",
       "    </tr>\n",
       "  </tbody>\n",
       "</table>\n",
       "</div>"
      ],
      "text/plain": [
       "  Release Date                                        Movie  \\\n",
       "0   2019-04-23                            Avengers: Endgame   \n",
       "1   2011-05-20  Pirates of the Caribbean: On Stranger Tides   \n",
       "2   2015-04-22                      Avengers: Age of Ultron   \n",
       "3   2015-12-16         Star Wars Ep. VII: The Force Awakens   \n",
       "4   2018-04-25                       Avengers: Infinity War   \n",
       "\n",
       "   Production Budget  Domestic Gross  Worldwide Gross  \n",
       "0          400000000       858373000       2797800564  \n",
       "1          379000000       241071802       1045713802  \n",
       "2          365000000       459005868       1395316979  \n",
       "3          306000000       936662225       2064615817  \n",
       "4          300000000       678815482       2048359754  "
      ]
     },
     "execution_count": 46,
     "metadata": {},
     "output_type": "execute_result"
    }
   ],
   "source": [
    "# Display df to assess the three financial fields\n",
    "movie_budget.head()"
   ]
  },
  {
   "cell_type": "code",
   "execution_count": 47,
   "metadata": {},
   "outputs": [],
   "source": [
    "# Converting Movie object to string\n",
    "movie_budget['Movie'] = movie_budget['Movie'].astype(str)"
   ]
  },
  {
   "cell_type": "code",
   "execution_count": 51,
   "metadata": {
    "scrolled": false
   },
   "outputs": [
    {
     "data": {
      "text/plain": [
       "Int64Index([], dtype='int64')"
      ]
     },
     "execution_count": 51,
     "metadata": {},
     "output_type": "execute_result"
    },
    {
     "data": {
      "text/plain": [
       "0       False\n",
       "1       False\n",
       "2       False\n",
       "3       False\n",
       "4       False\n",
       "        ...  \n",
       "5810    False\n",
       "5813    False\n",
       "5814    False\n",
       "5815    False\n",
       "5816    False\n",
       "Name: Movie, Length: 5727, dtype: bool"
      ]
     },
     "execution_count": 51,
     "metadata": {},
     "output_type": "execute_result"
    }
   ],
   "source": [
    "# Check to make sure the movie field doesn't contain blanks and NaNs\n",
    "movie_budget[movie_budget['Movie'] == ''].index\n",
    "pd.isna(movie_budget['Movie'])"
   ]
  },
  {
   "cell_type": "code",
   "execution_count": 54,
   "metadata": {},
   "outputs": [
    {
     "data": {
      "text/html": [
       "<div>\n",
       "<style scoped>\n",
       "    .dataframe tbody tr th:only-of-type {\n",
       "        vertical-align: middle;\n",
       "    }\n",
       "\n",
       "    .dataframe tbody tr th {\n",
       "        vertical-align: top;\n",
       "    }\n",
       "\n",
       "    .dataframe thead th {\n",
       "        text-align: right;\n",
       "    }\n",
       "</style>\n",
       "<table border=\"1\" class=\"dataframe\">\n",
       "  <thead>\n",
       "    <tr style=\"text-align: right;\">\n",
       "      <th></th>\n",
       "      <th>Release Date</th>\n",
       "      <th>Movie</th>\n",
       "      <th>Production Budget</th>\n",
       "      <th>Domestic Gross</th>\n",
       "    </tr>\n",
       "  </thead>\n",
       "  <tbody>\n",
       "    <tr>\n",
       "      <th>0</th>\n",
       "      <td>2019-04-23</td>\n",
       "      <td>Avengers: Endgame</td>\n",
       "      <td>400000000</td>\n",
       "      <td>858373000</td>\n",
       "    </tr>\n",
       "    <tr>\n",
       "      <th>1</th>\n",
       "      <td>2011-05-20</td>\n",
       "      <td>Pirates of the Caribbean: On Stranger Tides</td>\n",
       "      <td>379000000</td>\n",
       "      <td>241071802</td>\n",
       "    </tr>\n",
       "    <tr>\n",
       "      <th>2</th>\n",
       "      <td>2015-04-22</td>\n",
       "      <td>Avengers: Age of Ultron</td>\n",
       "      <td>365000000</td>\n",
       "      <td>459005868</td>\n",
       "    </tr>\n",
       "    <tr>\n",
       "      <th>3</th>\n",
       "      <td>2015-12-16</td>\n",
       "      <td>Star Wars Ep. VII: The Force Awakens</td>\n",
       "      <td>306000000</td>\n",
       "      <td>936662225</td>\n",
       "    </tr>\n",
       "    <tr>\n",
       "      <th>4</th>\n",
       "      <td>2018-04-25</td>\n",
       "      <td>Avengers: Infinity War</td>\n",
       "      <td>300000000</td>\n",
       "      <td>678815482</td>\n",
       "    </tr>\n",
       "    <tr>\n",
       "      <th>...</th>\n",
       "      <td>...</td>\n",
       "      <td>...</td>\n",
       "      <td>...</td>\n",
       "      <td>...</td>\n",
       "    </tr>\n",
       "    <tr>\n",
       "      <th>5810</th>\n",
       "      <td>2006-05-26</td>\n",
       "      <td>Cavite</td>\n",
       "      <td>7000</td>\n",
       "      <td>70071</td>\n",
       "    </tr>\n",
       "    <tr>\n",
       "      <th>5813</th>\n",
       "      <td>1999-04-02</td>\n",
       "      <td>Following</td>\n",
       "      <td>6000</td>\n",
       "      <td>48482</td>\n",
       "    </tr>\n",
       "    <tr>\n",
       "      <th>5814</th>\n",
       "      <td>2005-07-13</td>\n",
       "      <td>Return to the Land of Wonders</td>\n",
       "      <td>5000</td>\n",
       "      <td>1338</td>\n",
       "    </tr>\n",
       "    <tr>\n",
       "      <th>5815</th>\n",
       "      <td>2015-09-29</td>\n",
       "      <td>A Plague So Pleasant</td>\n",
       "      <td>1400</td>\n",
       "      <td>0</td>\n",
       "    </tr>\n",
       "    <tr>\n",
       "      <th>5816</th>\n",
       "      <td>2005-08-05</td>\n",
       "      <td>My Date With Drew</td>\n",
       "      <td>1100</td>\n",
       "      <td>181041</td>\n",
       "    </tr>\n",
       "  </tbody>\n",
       "</table>\n",
       "<p>5727 rows × 4 columns</p>\n",
       "</div>"
      ],
      "text/plain": [
       "     Release Date                                        Movie  \\\n",
       "0      2019-04-23                            Avengers: Endgame   \n",
       "1      2011-05-20  Pirates of the Caribbean: On Stranger Tides   \n",
       "2      2015-04-22                      Avengers: Age of Ultron   \n",
       "3      2015-12-16         Star Wars Ep. VII: The Force Awakens   \n",
       "4      2018-04-25                       Avengers: Infinity War   \n",
       "...           ...                                          ...   \n",
       "5810   2006-05-26                                       Cavite   \n",
       "5813   1999-04-02                                    Following   \n",
       "5814   2005-07-13                Return to the Land of Wonders   \n",
       "5815   2015-09-29                         A Plague So Pleasant   \n",
       "5816   2005-08-05                            My Date With Drew   \n",
       "\n",
       "      Production Budget  Domestic Gross  \n",
       "0             400000000       858373000  \n",
       "1             379000000       241071802  \n",
       "2             365000000       459005868  \n",
       "3             306000000       936662225  \n",
       "4             300000000       678815482  \n",
       "...                 ...             ...  \n",
       "5810               7000           70071  \n",
       "5813               6000           48482  \n",
       "5814               5000            1338  \n",
       "5815               1400               0  \n",
       "5816               1100          181041  \n",
       "\n",
       "[5727 rows x 4 columns]"
      ]
     },
     "execution_count": 54,
     "metadata": {},
     "output_type": "execute_result"
    }
   ],
   "source": [
    "# We can drop the Worldwide Gross column since we're focused in the US market\n",
    "movie_budget.drop(['Worldwide Gross'], axis=1)"
   ]
  },
  {
   "cell_type": "code",
   "execution_count": 56,
   "metadata": {
    "scrolled": true
   },
   "outputs": [
    {
     "data": {
      "text/html": [
       "<div>\n",
       "<style scoped>\n",
       "    .dataframe tbody tr th:only-of-type {\n",
       "        vertical-align: middle;\n",
       "    }\n",
       "\n",
       "    .dataframe tbody tr th {\n",
       "        vertical-align: top;\n",
       "    }\n",
       "\n",
       "    .dataframe thead th {\n",
       "        text-align: right;\n",
       "    }\n",
       "</style>\n",
       "<table border=\"1\" class=\"dataframe\">\n",
       "  <thead>\n",
       "    <tr style=\"text-align: right;\">\n",
       "      <th></th>\n",
       "      <th>Release Date</th>\n",
       "      <th>Movie</th>\n",
       "      <th>Production Budget</th>\n",
       "      <th>Domestic Gross</th>\n",
       "      <th>Worldwide Gross</th>\n",
       "    </tr>\n",
       "  </thead>\n",
       "  <tbody>\n",
       "  </tbody>\n",
       "</table>\n",
       "</div>"
      ],
      "text/plain": [
       "Empty DataFrame\n",
       "Columns: [Release Date, Movie, Production Budget, Domestic Gross, Worldwide Gross]\n",
       "Index: []"
      ]
     },
     "execution_count": 56,
     "metadata": {},
     "output_type": "execute_result"
    },
    {
     "data": {
      "text/html": [
       "<div>\n",
       "<style scoped>\n",
       "    .dataframe tbody tr th:only-of-type {\n",
       "        vertical-align: middle;\n",
       "    }\n",
       "\n",
       "    .dataframe tbody tr th {\n",
       "        vertical-align: top;\n",
       "    }\n",
       "\n",
       "    .dataframe thead th {\n",
       "        text-align: right;\n",
       "    }\n",
       "</style>\n",
       "<table border=\"1\" class=\"dataframe\">\n",
       "  <thead>\n",
       "    <tr style=\"text-align: right;\">\n",
       "      <th></th>\n",
       "      <th>Release Date</th>\n",
       "      <th>Movie</th>\n",
       "      <th>Production Budget</th>\n",
       "      <th>Domestic Gross</th>\n",
       "      <th>Worldwide Gross</th>\n",
       "    </tr>\n",
       "  </thead>\n",
       "  <tbody>\n",
       "    <tr>\n",
       "      <th>75</th>\n",
       "      <td>2020-09-04</td>\n",
       "      <td>Mulan</td>\n",
       "      <td>200000000</td>\n",
       "      <td>0</td>\n",
       "      <td>69965374</td>\n",
       "    </tr>\n",
       "    <tr>\n",
       "      <th>166</th>\n",
       "      <td>2019-11-01</td>\n",
       "      <td>The Irishman</td>\n",
       "      <td>159000000</td>\n",
       "      <td>0</td>\n",
       "      <td>910234</td>\n",
       "    </tr>\n",
       "    <tr>\n",
       "      <th>220</th>\n",
       "      <td>2021-11-04</td>\n",
       "      <td>Red Notice</td>\n",
       "      <td>150000000</td>\n",
       "      <td>0</td>\n",
       "      <td>173638</td>\n",
       "    </tr>\n",
       "    <tr>\n",
       "      <th>221</th>\n",
       "      <td>2022-02-03</td>\n",
       "      <td>Moonfall</td>\n",
       "      <td>150000000</td>\n",
       "      <td>0</td>\n",
       "      <td>0</td>\n",
       "    </tr>\n",
       "    <tr>\n",
       "      <th>246</th>\n",
       "      <td>2022-05-27</td>\n",
       "      <td>Top Gun: Maverick</td>\n",
       "      <td>140000000</td>\n",
       "      <td>0</td>\n",
       "      <td>0</td>\n",
       "    </tr>\n",
       "    <tr>\n",
       "      <th>...</th>\n",
       "      <td>...</td>\n",
       "      <td>...</td>\n",
       "      <td>...</td>\n",
       "      <td>...</td>\n",
       "      <td>...</td>\n",
       "    </tr>\n",
       "    <tr>\n",
       "      <th>5791</th>\n",
       "      <td>2013-01-04</td>\n",
       "      <td>All Superheroes Must Die</td>\n",
       "      <td>20000</td>\n",
       "      <td>0</td>\n",
       "      <td>0</td>\n",
       "    </tr>\n",
       "    <tr>\n",
       "      <th>5792</th>\n",
       "      <td>2015-04-21</td>\n",
       "      <td>The Front Man</td>\n",
       "      <td>20000</td>\n",
       "      <td>0</td>\n",
       "      <td>0</td>\n",
       "    </tr>\n",
       "    <tr>\n",
       "      <th>5793</th>\n",
       "      <td>2011-11-25</td>\n",
       "      <td>The Ridges</td>\n",
       "      <td>17300</td>\n",
       "      <td>0</td>\n",
       "      <td>0</td>\n",
       "    </tr>\n",
       "    <tr>\n",
       "      <th>5806</th>\n",
       "      <td>2015-05-19</td>\n",
       "      <td>Family Motocross</td>\n",
       "      <td>10000</td>\n",
       "      <td>0</td>\n",
       "      <td>0</td>\n",
       "    </tr>\n",
       "    <tr>\n",
       "      <th>5815</th>\n",
       "      <td>2015-09-29</td>\n",
       "      <td>A Plague So Pleasant</td>\n",
       "      <td>1400</td>\n",
       "      <td>0</td>\n",
       "      <td>0</td>\n",
       "    </tr>\n",
       "  </tbody>\n",
       "</table>\n",
       "<p>446 rows × 5 columns</p>\n",
       "</div>"
      ],
      "text/plain": [
       "     Release Date                     Movie  Production Budget  \\\n",
       "75     2020-09-04                     Mulan          200000000   \n",
       "166    2019-11-01              The Irishman          159000000   \n",
       "220    2021-11-04                Red Notice          150000000   \n",
       "221    2022-02-03                  Moonfall          150000000   \n",
       "246    2022-05-27         Top Gun: Maverick          140000000   \n",
       "...           ...                       ...                ...   \n",
       "5791   2013-01-04  All Superheroes Must Die              20000   \n",
       "5792   2015-04-21             The Front Man              20000   \n",
       "5793   2011-11-25                The Ridges              17300   \n",
       "5806   2015-05-19          Family Motocross              10000   \n",
       "5815   2015-09-29      A Plague So Pleasant               1400   \n",
       "\n",
       "      Domestic Gross  Worldwide Gross  \n",
       "75                 0         69965374  \n",
       "166                0           910234  \n",
       "220                0           173638  \n",
       "221                0                0  \n",
       "246                0                0  \n",
       "...              ...              ...  \n",
       "5791               0                0  \n",
       "5792               0                0  \n",
       "5793               0                0  \n",
       "5806               0                0  \n",
       "5815               0                0  \n",
       "\n",
       "[446 rows x 5 columns]"
      ]
     },
     "execution_count": 56,
     "metadata": {},
     "output_type": "execute_result"
    }
   ],
   "source": [
    "# Check that none of the movies have a production budget = 0 as they're most likely bad data\n",
    "movie_budget.loc[movie_budget['Production Budget'] == 0]\n",
    "\n",
    "# Check that none of the movies have a Domestic Gross = 0 as they're most likely bad data, \n",
    "# streaming movies or the movie is newly released and financial figures have yet to be released\n",
    "\n",
    "movie_budget.loc[movie_budget['Domestic Gross'] == 0]"
   ]
  },
  {
   "cell_type": "code",
   "execution_count": 57,
   "metadata": {
    "scrolled": true
   },
   "outputs": [
    {
     "data": {
      "text/plain": [
       "(5727, 5)"
      ]
     },
     "execution_count": 57,
     "metadata": {},
     "output_type": "execute_result"
    },
    {
     "data": {
      "text/plain": [
       "(5281, 5)"
      ]
     },
     "execution_count": 57,
     "metadata": {},
     "output_type": "execute_result"
    }
   ],
   "source": [
    "# Drop movies with Domestic Gross = 0\n",
    "movie_budget.shape\n",
    "domesticDrop = movie_budget.loc[movie_budget['Domestic Gross'] == 0]\n",
    "movie_budget = movie_budget.drop(domesticDrop.index)\n",
    "movie_budget.shape"
   ]
  },
  {
   "cell_type": "code",
   "execution_count": 99,
   "metadata": {},
   "outputs": [
    {
     "name": "stdout",
     "output_type": "stream",
     "text": [
      "<class 'pandas.core.frame.DataFrame'>\n",
      "Int64Index: 5281 entries, 0 to 5816\n",
      "Data columns (total 5 columns):\n",
      " #   Column             Non-Null Count  Dtype         \n",
      "---  ------             --------------  -----         \n",
      " 0   Release Date       5281 non-null   datetime64[ns]\n",
      " 1   Movie              5281 non-null   object        \n",
      " 2   Production Budget  5281 non-null   int64         \n",
      " 3   Domestic Gross     5281 non-null   int64         \n",
      " 4   Worldwide Gross    5281 non-null   int64         \n",
      "dtypes: datetime64[ns](1), int64(3), object(1)\n",
      "memory usage: 247.5+ KB\n"
     ]
    }
   ],
   "source": [
    "movie_budget.info()"
   ]
  },
  {
   "cell_type": "markdown",
   "metadata": {},
   "source": [
    "### title_basics"
   ]
  },
  {
   "cell_type": "code",
   "execution_count": 92,
   "metadata": {
    "scrolled": false
   },
   "outputs": [
    {
     "name": "stdout",
     "output_type": "stream",
     "text": [
      "<class 'pandas.core.frame.DataFrame'>\n",
      "RangeIndex: 8648763 entries, 0 to 8648762\n",
      "Data columns (total 9 columns):\n",
      " #   Column          Dtype \n",
      "---  ------          ----- \n",
      " 0   tconst          object\n",
      " 1   titleType       object\n",
      " 2   primaryTitle    object\n",
      " 3   originalTitle   object\n",
      " 4   isAdult         object\n",
      " 5   startYear       object\n",
      " 6   endYear         object\n",
      " 7   runtimeMinutes  object\n",
      " 8   genres          object\n",
      "dtypes: object(9)\n",
      "memory usage: 593.9+ MB\n"
     ]
    }
   ],
   "source": [
    "title_basics.info()"
   ]
  },
  {
   "cell_type": "code",
   "execution_count": 93,
   "metadata": {},
   "outputs": [
    {
     "name": "stdout",
     "output_type": "stream",
     "text": [
      "<class 'pandas.core.frame.DataFrame'>\n",
      "RangeIndex: 8648763 entries, 0 to 8648762\n",
      "Data columns (total 6 columns):\n",
      " #   Column          Dtype \n",
      "---  ------          ----- \n",
      " 0   tconst          object\n",
      " 1   titleType       object\n",
      " 2   primaryTitle    object\n",
      " 3   originalTitle   object\n",
      " 4   runtimeMinutes  object\n",
      " 5   genres          object\n",
      "dtypes: object(6)\n",
      "memory usage: 395.9+ MB\n"
     ]
    }
   ],
   "source": [
    "# Drop three columns that we won't need\n",
    "title_basics.drop(['isAdult', 'startYear', 'endYear'], axis=1, inplace=True)\n",
    "\n",
    "# Getting shape to get dimension of df\n",
    "title_basics.info()"
   ]
  },
  {
   "cell_type": "code",
   "execution_count": 94,
   "metadata": {
    "scrolled": true
   },
   "outputs": [
    {
     "data": {
      "text/plain": [
       "(8648763, 6)"
      ]
     },
     "execution_count": 94,
     "metadata": {},
     "output_type": "execute_result"
    },
    {
     "data": {
      "text/html": [
       "<div>\n",
       "<style scoped>\n",
       "    .dataframe tbody tr th:only-of-type {\n",
       "        vertical-align: middle;\n",
       "    }\n",
       "\n",
       "    .dataframe tbody tr th {\n",
       "        vertical-align: top;\n",
       "    }\n",
       "\n",
       "    .dataframe thead th {\n",
       "        text-align: right;\n",
       "    }\n",
       "</style>\n",
       "<table border=\"1\" class=\"dataframe\">\n",
       "  <thead>\n",
       "    <tr style=\"text-align: right;\">\n",
       "      <th></th>\n",
       "      <th>tconst</th>\n",
       "      <th>titleType</th>\n",
       "      <th>primaryTitle</th>\n",
       "      <th>originalTitle</th>\n",
       "      <th>runtimeMinutes</th>\n",
       "      <th>genres</th>\n",
       "    </tr>\n",
       "  </thead>\n",
       "  <tbody>\n",
       "    <tr>\n",
       "      <th>0</th>\n",
       "      <td>tt0000001</td>\n",
       "      <td>short</td>\n",
       "      <td>Carmencita</td>\n",
       "      <td>Carmencita</td>\n",
       "      <td>1</td>\n",
       "      <td>Documentary,Short</td>\n",
       "    </tr>\n",
       "    <tr>\n",
       "      <th>1</th>\n",
       "      <td>tt0000002</td>\n",
       "      <td>short</td>\n",
       "      <td>Le clown et ses chiens</td>\n",
       "      <td>Le clown et ses chiens</td>\n",
       "      <td>5</td>\n",
       "      <td>Animation,Short</td>\n",
       "    </tr>\n",
       "    <tr>\n",
       "      <th>2</th>\n",
       "      <td>tt0000003</td>\n",
       "      <td>short</td>\n",
       "      <td>Pauvre Pierrot</td>\n",
       "      <td>Pauvre Pierrot</td>\n",
       "      <td>4</td>\n",
       "      <td>Animation,Comedy,Romance</td>\n",
       "    </tr>\n",
       "    <tr>\n",
       "      <th>3</th>\n",
       "      <td>tt0000004</td>\n",
       "      <td>short</td>\n",
       "      <td>Un bon bock</td>\n",
       "      <td>Un bon bock</td>\n",
       "      <td>12</td>\n",
       "      <td>Animation,Short</td>\n",
       "    </tr>\n",
       "    <tr>\n",
       "      <th>4</th>\n",
       "      <td>tt0000005</td>\n",
       "      <td>short</td>\n",
       "      <td>Blacksmith Scene</td>\n",
       "      <td>Blacksmith Scene</td>\n",
       "      <td>1</td>\n",
       "      <td>Comedy,Short</td>\n",
       "    </tr>\n",
       "  </tbody>\n",
       "</table>\n",
       "</div>"
      ],
      "text/plain": [
       "      tconst titleType            primaryTitle           originalTitle  \\\n",
       "0  tt0000001     short              Carmencita              Carmencita   \n",
       "1  tt0000002     short  Le clown et ses chiens  Le clown et ses chiens   \n",
       "2  tt0000003     short          Pauvre Pierrot          Pauvre Pierrot   \n",
       "3  tt0000004     short             Un bon bock             Un bon bock   \n",
       "4  tt0000005     short        Blacksmith Scene        Blacksmith Scene   \n",
       "\n",
       "  runtimeMinutes                    genres  \n",
       "0              1         Documentary,Short  \n",
       "1              5           Animation,Short  \n",
       "2              4  Animation,Comedy,Romance  \n",
       "3             12           Animation,Short  \n",
       "4              1              Comedy,Short  "
      ]
     },
     "execution_count": 94,
     "metadata": {},
     "output_type": "execute_result"
    }
   ],
   "source": [
    "title_basics.shape\n",
    "title_basics.head()"
   ]
  },
  {
   "cell_type": "code",
   "execution_count": 95,
   "metadata": {
    "scrolled": false
   },
   "outputs": [
    {
     "data": {
      "text/plain": [
       "tvEpisode       6465119\n",
       "short            853167\n",
       "movie            600289\n",
       "video            257070\n",
       "tvSeries         220118\n",
       "tvMovie          134681\n",
       "tvMiniSeries      41798\n",
       "tvSpecial         35779\n",
       "videoGame         30295\n",
       "tvShort           10445\n",
       "tvPilot               2\n",
       "Name: titleType, dtype: int64"
      ]
     },
     "execution_count": 95,
     "metadata": {},
     "output_type": "execute_result"
    }
   ],
   "source": [
    "# Check the titleType to determine what to exclude from the dataset\n",
    "title_basics['titleType'].value_counts()"
   ]
  },
  {
   "cell_type": "code",
   "execution_count": 96,
   "metadata": {},
   "outputs": [
    {
     "data": {
      "text/plain": [
       "(8648763, 6)"
      ]
     },
     "execution_count": 96,
     "metadata": {},
     "output_type": "execute_result"
    },
    {
     "name": "stdout",
     "output_type": "stream",
     "text": [
      "<class 'pandas.core.frame.DataFrame'>\n",
      "Int64Index: 600289 entries, 498 to 8648713\n",
      "Data columns (total 6 columns):\n",
      " #   Column          Non-Null Count   Dtype \n",
      "---  ------          --------------   ----- \n",
      " 0   tconst          600289 non-null  object\n",
      " 1   titleType       600289 non-null  object\n",
      " 2   primaryTitle    600289 non-null  object\n",
      " 3   originalTitle   600289 non-null  object\n",
      " 4   runtimeMinutes  600289 non-null  object\n",
      " 5   genres          600289 non-null  object\n",
      "dtypes: object(6)\n",
      "memory usage: 32.1+ MB\n"
     ]
    }
   ],
   "source": [
    "# Check table count\n",
    "title_basics.shape\n",
    "\n",
    "# Drop rows where value != movie\n",
    "title_basics = title_basics[title_basics['titleType'].isin(['movie']) == True]\n",
    "\n",
    "#title_basics.drop(title_basics[title_basics.titleType.isin([\"\", \"\"])].index)\n",
    "\n",
    "# Check table count\n",
    "title_basics.info()"
   ]
  },
  {
   "cell_type": "code",
   "execution_count": 97,
   "metadata": {},
   "outputs": [
    {
     "data": {
      "text/plain": [
       "movie    600289\n",
       "Name: titleType, dtype: int64"
      ]
     },
     "execution_count": 97,
     "metadata": {},
     "output_type": "execute_result"
    }
   ],
   "source": [
    "title_basics['titleType'].value_counts()"
   ]
  },
  {
   "cell_type": "code",
   "execution_count": 98,
   "metadata": {
    "scrolled": true
   },
   "outputs": [
    {
     "name": "stdout",
     "output_type": "stream",
     "text": [
      "<class 'pandas.core.frame.DataFrame'>\n",
      "Int64Index: 600289 entries, 498 to 8648713\n",
      "Data columns (total 6 columns):\n",
      " #   Column          Non-Null Count   Dtype \n",
      "---  ------          --------------   ----- \n",
      " 0   tconst          600289 non-null  object\n",
      " 1   titleType       600289 non-null  object\n",
      " 2   primaryTitle    600289 non-null  object\n",
      " 3   originalTitle   600289 non-null  object\n",
      " 4   runtimeMinutes  600289 non-null  object\n",
      " 5   genres          600289 non-null  object\n",
      "dtypes: object(6)\n",
      "memory usage: 32.1+ MB\n"
     ]
    }
   ],
   "source": [
    "# converting titleType to Str\n",
    "title_basics['titleType'] = title_basics['titleType'].astype(str)\n",
    "\n",
    "# converting primaryTitle to Str\n",
    "title_basics['primaryTitle'] = title_basics['primaryTitle'].astype(str)\n",
    "\n",
    "# converting originalTitle to Str\n",
    "title_basics['originalTitle'] = title_basics['originalTitle'].astype(str)\n",
    "\n",
    "# converting genres to Str\n",
    "title_basics['genres'] = title_basics['genres'].astype(str)\n",
    "\n",
    "title_basics.info()"
   ]
  },
  {
   "cell_type": "code",
   "execution_count": 116,
   "metadata": {
    "scrolled": true
   },
   "outputs": [
    {
     "data": {
      "text/plain": [
       "N       222840\n",
       "90       25596\n",
       "80       11364\n",
       "60       10678\n",
       "85       10667\n",
       "         ...  \n",
       "761          1\n",
       "418          1\n",
       "2400         1\n",
       "326          1\n",
       "566          1\n",
       "Name: runtimeMinutes, Length: 489, dtype: int64"
      ]
     },
     "execution_count": 116,
     "metadata": {},
     "output_type": "execute_result"
    }
   ],
   "source": [
    "# Check runtimeMinutes\n",
    "title_basics['runtimeMinutes'].value_counts()"
   ]
  },
  {
   "cell_type": "code",
   "execution_count": 119,
   "metadata": {
    "scrolled": true
   },
   "outputs": [
    {
     "data": {
      "text/html": [
       "<div>\n",
       "<style scoped>\n",
       "    .dataframe tbody tr th:only-of-type {\n",
       "        vertical-align: middle;\n",
       "    }\n",
       "\n",
       "    .dataframe tbody tr th {\n",
       "        vertical-align: top;\n",
       "    }\n",
       "\n",
       "    .dataframe thead th {\n",
       "        text-align: right;\n",
       "    }\n",
       "</style>\n",
       "<table border=\"1\" class=\"dataframe\">\n",
       "  <thead>\n",
       "    <tr style=\"text-align: right;\">\n",
       "      <th></th>\n",
       "      <th>tconst</th>\n",
       "      <th>titleType</th>\n",
       "      <th>primaryTitle</th>\n",
       "      <th>originalTitle</th>\n",
       "      <th>runtimeMinutes</th>\n",
       "      <th>genres</th>\n",
       "    </tr>\n",
       "  </thead>\n",
       "  <tbody>\n",
       "    <tr>\n",
       "      <th>610</th>\n",
       "      <td>tt0000615</td>\n",
       "      <td>movie</td>\n",
       "      <td>Robbery Under Arms</td>\n",
       "      <td>Robbery Under Arms</td>\n",
       "      <td>N</td>\n",
       "      <td>Drama</td>\n",
       "    </tr>\n",
       "    <tr>\n",
       "      <th>625</th>\n",
       "      <td>tt0000630</td>\n",
       "      <td>movie</td>\n",
       "      <td>Hamlet</td>\n",
       "      <td>Amleto</td>\n",
       "      <td>N</td>\n",
       "      <td>Drama</td>\n",
       "    </tr>\n",
       "    <tr>\n",
       "      <th>668</th>\n",
       "      <td>tt0000675</td>\n",
       "      <td>movie</td>\n",
       "      <td>Don Quijote</td>\n",
       "      <td>Don Quijote</td>\n",
       "      <td>N</td>\n",
       "      <td>Drama</td>\n",
       "    </tr>\n",
       "    <tr>\n",
       "      <th>729</th>\n",
       "      <td>tt0000739</td>\n",
       "      <td>movie</td>\n",
       "      <td>El pastorcito de Torrente</td>\n",
       "      <td>El pastorcito de Torrente</td>\n",
       "      <td>N</td>\n",
       "      <td>Drama</td>\n",
       "    </tr>\n",
       "    <tr>\n",
       "      <th>783</th>\n",
       "      <td>tt0000793</td>\n",
       "      <td>movie</td>\n",
       "      <td>Andreas Hofer</td>\n",
       "      <td>Andreas Hofer</td>\n",
       "      <td>N</td>\n",
       "      <td>Drama</td>\n",
       "    </tr>\n",
       "    <tr>\n",
       "      <th>...</th>\n",
       "      <td>...</td>\n",
       "      <td>...</td>\n",
       "      <td>...</td>\n",
       "      <td>...</td>\n",
       "      <td>...</td>\n",
       "      <td>...</td>\n",
       "    </tr>\n",
       "    <tr>\n",
       "      <th>8648439</th>\n",
       "      <td>tt9916178</td>\n",
       "      <td>movie</td>\n",
       "      <td>Yesterday's Dreams</td>\n",
       "      <td>Yesterday's Dreams</td>\n",
       "      <td>N</td>\n",
       "      <td>N</td>\n",
       "    </tr>\n",
       "    <tr>\n",
       "      <th>8648443</th>\n",
       "      <td>tt9916188</td>\n",
       "      <td>movie</td>\n",
       "      <td>Minotaur</td>\n",
       "      <td>Minotaur</td>\n",
       "      <td>N</td>\n",
       "      <td>Thriller</td>\n",
       "    </tr>\n",
       "    <tr>\n",
       "      <th>8648560</th>\n",
       "      <td>tt9916428</td>\n",
       "      <td>movie</td>\n",
       "      <td>The Secret of China</td>\n",
       "      <td>Hong xing zhao yao Zhong guo</td>\n",
       "      <td>N</td>\n",
       "      <td>Adventure,History,War</td>\n",
       "    </tr>\n",
       "    <tr>\n",
       "      <th>8648652</th>\n",
       "      <td>tt9916620</td>\n",
       "      <td>movie</td>\n",
       "      <td>The Copeland Case</td>\n",
       "      <td>The Copeland Case</td>\n",
       "      <td>N</td>\n",
       "      <td>Drama</td>\n",
       "    </tr>\n",
       "    <tr>\n",
       "      <th>8648692</th>\n",
       "      <td>tt9916706</td>\n",
       "      <td>movie</td>\n",
       "      <td>Dankyavar Danka</td>\n",
       "      <td>Dankyavar Danka</td>\n",
       "      <td>N</td>\n",
       "      <td>Comedy</td>\n",
       "    </tr>\n",
       "  </tbody>\n",
       "</table>\n",
       "<p>222840 rows × 6 columns</p>\n",
       "</div>"
      ],
      "text/plain": [
       "            tconst titleType               primaryTitle  \\\n",
       "610      tt0000615     movie         Robbery Under Arms   \n",
       "625      tt0000630     movie                     Hamlet   \n",
       "668      tt0000675     movie                Don Quijote   \n",
       "729      tt0000739     movie  El pastorcito de Torrente   \n",
       "783      tt0000793     movie              Andreas Hofer   \n",
       "...            ...       ...                        ...   \n",
       "8648439  tt9916178     movie         Yesterday's Dreams   \n",
       "8648443  tt9916188     movie                   Minotaur   \n",
       "8648560  tt9916428     movie        The Secret of China   \n",
       "8648652  tt9916620     movie          The Copeland Case   \n",
       "8648692  tt9916706     movie            Dankyavar Danka   \n",
       "\n",
       "                        originalTitle runtimeMinutes                 genres  \n",
       "610                Robbery Under Arms              N                  Drama  \n",
       "625                            Amleto              N                  Drama  \n",
       "668                       Don Quijote              N                  Drama  \n",
       "729         El pastorcito de Torrente              N                  Drama  \n",
       "783                     Andreas Hofer              N                  Drama  \n",
       "...                               ...            ...                    ...  \n",
       "8648439            Yesterday's Dreams              N                      N  \n",
       "8648443                      Minotaur              N               Thriller  \n",
       "8648560  Hong xing zhao yao Zhong guo              N  Adventure,History,War  \n",
       "8648652             The Copeland Case              N                  Drama  \n",
       "8648692               Dankyavar Danka              N                 Comedy  \n",
       "\n",
       "[222840 rows x 6 columns]"
      ]
     },
     "execution_count": 119,
     "metadata": {},
     "output_type": "execute_result"
    }
   ],
   "source": [
    "title_basics.loc[title_basics['runtimeMinutes'] == 'N']"
   ]
  },
  {
   "cell_type": "code",
   "execution_count": 120,
   "metadata": {
    "scrolled": false
   },
   "outputs": [
    {
     "data": {
      "text/html": [
       "<div>\n",
       "<style scoped>\n",
       "    .dataframe tbody tr th:only-of-type {\n",
       "        vertical-align: middle;\n",
       "    }\n",
       "\n",
       "    .dataframe tbody tr th {\n",
       "        vertical-align: top;\n",
       "    }\n",
       "\n",
       "    .dataframe thead th {\n",
       "        text-align: right;\n",
       "    }\n",
       "</style>\n",
       "<table border=\"1\" class=\"dataframe\">\n",
       "  <thead>\n",
       "    <tr style=\"text-align: right;\">\n",
       "      <th></th>\n",
       "      <th>tconst</th>\n",
       "      <th>titleType</th>\n",
       "      <th>primaryTitle</th>\n",
       "      <th>originalTitle</th>\n",
       "      <th>runtimeMinutes</th>\n",
       "      <th>genres</th>\n",
       "    </tr>\n",
       "  </thead>\n",
       "  <tbody>\n",
       "    <tr>\n",
       "      <th>498</th>\n",
       "      <td>tt0000502</td>\n",
       "      <td>movie</td>\n",
       "      <td>Bohemios</td>\n",
       "      <td>Bohemios</td>\n",
       "      <td>100</td>\n",
       "      <td>N</td>\n",
       "    </tr>\n",
       "    <tr>\n",
       "      <th>570</th>\n",
       "      <td>tt0000574</td>\n",
       "      <td>movie</td>\n",
       "      <td>The Story of the Kelly Gang</td>\n",
       "      <td>The Story of the Kelly Gang</td>\n",
       "      <td>70</td>\n",
       "      <td>Action,Adventure,Biography</td>\n",
       "    </tr>\n",
       "    <tr>\n",
       "      <th>587</th>\n",
       "      <td>tt0000591</td>\n",
       "      <td>movie</td>\n",
       "      <td>The Prodigal Son</td>\n",
       "      <td>L'enfant prodigue</td>\n",
       "      <td>90</td>\n",
       "      <td>Drama</td>\n",
       "    </tr>\n",
       "    <tr>\n",
       "      <th>672</th>\n",
       "      <td>tt0000679</td>\n",
       "      <td>movie</td>\n",
       "      <td>The Fairylogue and Radio-Plays</td>\n",
       "      <td>The Fairylogue and Radio-Plays</td>\n",
       "      <td>120</td>\n",
       "      <td>Adventure,Fantasy</td>\n",
       "    </tr>\n",
       "    <tr>\n",
       "      <th>1172</th>\n",
       "      <td>tt0001184</td>\n",
       "      <td>movie</td>\n",
       "      <td>Don Juan de Serrallonga</td>\n",
       "      <td>Don Juan de Serrallonga</td>\n",
       "      <td>58</td>\n",
       "      <td>Adventure,Drama</td>\n",
       "    </tr>\n",
       "    <tr>\n",
       "      <th>...</th>\n",
       "      <td>...</td>\n",
       "      <td>...</td>\n",
       "      <td>...</td>\n",
       "      <td>...</td>\n",
       "      <td>...</td>\n",
       "      <td>...</td>\n",
       "    </tr>\n",
       "    <tr>\n",
       "      <th>8648612</th>\n",
       "      <td>tt9916538</td>\n",
       "      <td>movie</td>\n",
       "      <td>Kuambil Lagi Hatiku</td>\n",
       "      <td>Kuambil Lagi Hatiku</td>\n",
       "      <td>123</td>\n",
       "      <td>Drama</td>\n",
       "    </tr>\n",
       "    <tr>\n",
       "      <th>8648653</th>\n",
       "      <td>tt9916622</td>\n",
       "      <td>movie</td>\n",
       "      <td>Rodolpho Teóphilo - O Legado de um Pioneiro</td>\n",
       "      <td>Rodolpho Teóphilo - O Legado de um Pioneiro</td>\n",
       "      <td>57</td>\n",
       "      <td>Documentary</td>\n",
       "    </tr>\n",
       "    <tr>\n",
       "      <th>8648680</th>\n",
       "      <td>tt9916680</td>\n",
       "      <td>movie</td>\n",
       "      <td>De la ilusión al desconcierto: cine colombiano...</td>\n",
       "      <td>De la ilusión al desconcierto: cine colombiano...</td>\n",
       "      <td>100</td>\n",
       "      <td>Documentary</td>\n",
       "    </tr>\n",
       "    <tr>\n",
       "      <th>8648703</th>\n",
       "      <td>tt9916730</td>\n",
       "      <td>movie</td>\n",
       "      <td>6 Gunn</td>\n",
       "      <td>6 Gunn</td>\n",
       "      <td>116</td>\n",
       "      <td>N</td>\n",
       "    </tr>\n",
       "    <tr>\n",
       "      <th>8648713</th>\n",
       "      <td>tt9916754</td>\n",
       "      <td>movie</td>\n",
       "      <td>Chico Albuquerque - Revelações</td>\n",
       "      <td>Chico Albuquerque - Revelações</td>\n",
       "      <td>49</td>\n",
       "      <td>Documentary</td>\n",
       "    </tr>\n",
       "  </tbody>\n",
       "</table>\n",
       "<p>377449 rows × 6 columns</p>\n",
       "</div>"
      ],
      "text/plain": [
       "            tconst titleType  \\\n",
       "498      tt0000502     movie   \n",
       "570      tt0000574     movie   \n",
       "587      tt0000591     movie   \n",
       "672      tt0000679     movie   \n",
       "1172     tt0001184     movie   \n",
       "...            ...       ...   \n",
       "8648612  tt9916538     movie   \n",
       "8648653  tt9916622     movie   \n",
       "8648680  tt9916680     movie   \n",
       "8648703  tt9916730     movie   \n",
       "8648713  tt9916754     movie   \n",
       "\n",
       "                                              primaryTitle  \\\n",
       "498                                               Bohemios   \n",
       "570                            The Story of the Kelly Gang   \n",
       "587                                       The Prodigal Son   \n",
       "672                         The Fairylogue and Radio-Plays   \n",
       "1172                               Don Juan de Serrallonga   \n",
       "...                                                    ...   \n",
       "8648612                                Kuambil Lagi Hatiku   \n",
       "8648653        Rodolpho Teóphilo - O Legado de um Pioneiro   \n",
       "8648680  De la ilusión al desconcierto: cine colombiano...   \n",
       "8648703                                             6 Gunn   \n",
       "8648713                     Chico Albuquerque - Revelações   \n",
       "\n",
       "                                             originalTitle runtimeMinutes  \\\n",
       "498                                               Bohemios            100   \n",
       "570                            The Story of the Kelly Gang             70   \n",
       "587                                      L'enfant prodigue             90   \n",
       "672                         The Fairylogue and Radio-Plays            120   \n",
       "1172                               Don Juan de Serrallonga             58   \n",
       "...                                                    ...            ...   \n",
       "8648612                                Kuambil Lagi Hatiku            123   \n",
       "8648653        Rodolpho Teóphilo - O Legado de um Pioneiro             57   \n",
       "8648680  De la ilusión al desconcierto: cine colombiano...            100   \n",
       "8648703                                             6 Gunn            116   \n",
       "8648713                     Chico Albuquerque - Revelações             49   \n",
       "\n",
       "                             genres  \n",
       "498                               N  \n",
       "570      Action,Adventure,Biography  \n",
       "587                           Drama  \n",
       "672               Adventure,Fantasy  \n",
       "1172                Adventure,Drama  \n",
       "...                             ...  \n",
       "8648612                       Drama  \n",
       "8648653                 Documentary  \n",
       "8648680                 Documentary  \n",
       "8648703                           N  \n",
       "8648713                 Documentary  \n",
       "\n",
       "[377449 rows x 6 columns]"
      ]
     },
     "execution_count": 120,
     "metadata": {},
     "output_type": "execute_result"
    },
    {
     "data": {
      "text/plain": [
       "(600289, 6)"
      ]
     },
     "execution_count": 120,
     "metadata": {},
     "output_type": "execute_result"
    }
   ],
   "source": [
    "# Drop rows with runtime = N\n",
    "dropRuntime = title_basics.loc[title_basics['runtimeMinutes'] == 'N']\n",
    "title_basics.drop(dropRuntime.index)\n",
    "title_basics.shape"
   ]
  },
  {
   "cell_type": "code",
   "execution_count": 128,
   "metadata": {},
   "outputs": [
    {
     "data": {
      "text/plain": [
       "(600289, 6)"
      ]
     },
     "execution_count": 128,
     "metadata": {},
     "output_type": "execute_result"
    },
    {
     "data": {
      "text/plain": [
       "(600289, 5)"
      ]
     },
     "execution_count": 128,
     "metadata": {},
     "output_type": "execute_result"
    }
   ],
   "source": [
    "title_basics.shape\n",
    "\n",
    "# Drop Genres\n",
    "title_basics.drop(['genres'], axis=1, inplace=True)\n",
    "\n",
    "title_basics.shape"
   ]
  },
  {
   "cell_type": "code",
   "execution_count": 130,
   "metadata": {
    "scrolled": true
   },
   "outputs": [
    {
     "data": {
      "text/plain": [
       "<bound method DataFrame.drop_duplicates of             tconst titleType  \\\n",
       "498      tt0000502     movie   \n",
       "570      tt0000574     movie   \n",
       "587      tt0000591     movie   \n",
       "610      tt0000615     movie   \n",
       "625      tt0000630     movie   \n",
       "...            ...       ...   \n",
       "8648653  tt9916622     movie   \n",
       "8648680  tt9916680     movie   \n",
       "8648692  tt9916706     movie   \n",
       "8648703  tt9916730     movie   \n",
       "8648713  tt9916754     movie   \n",
       "\n",
       "                                              primaryTitle  \\\n",
       "498                                               Bohemios   \n",
       "570                            The Story of the Kelly Gang   \n",
       "587                                       The Prodigal Son   \n",
       "610                                     Robbery Under Arms   \n",
       "625                                                 Hamlet   \n",
       "...                                                    ...   \n",
       "8648653        Rodolpho Teóphilo - O Legado de um Pioneiro   \n",
       "8648680  De la ilusión al desconcierto: cine colombiano...   \n",
       "8648692                                    Dankyavar Danka   \n",
       "8648703                                             6 Gunn   \n",
       "8648713                     Chico Albuquerque - Revelações   \n",
       "\n",
       "                                             originalTitle  \n",
       "498                                               Bohemios  \n",
       "570                            The Story of the Kelly Gang  \n",
       "587                                      L'enfant prodigue  \n",
       "610                                     Robbery Under Arms  \n",
       "625                                                 Amleto  \n",
       "...                                                    ...  \n",
       "8648653        Rodolpho Teóphilo - O Legado de um Pioneiro  \n",
       "8648680  De la ilusión al desconcierto: cine colombiano...  \n",
       "8648692                                    Dankyavar Danka  \n",
       "8648703                                             6 Gunn  \n",
       "8648713                     Chico Albuquerque - Revelações  \n",
       "\n",
       "[600289 rows x 4 columns]>"
      ]
     },
     "execution_count": 130,
     "metadata": {},
     "output_type": "execute_result"
    },
    {
     "name": "stdout",
     "output_type": "stream",
     "text": [
      "<class 'pandas.core.frame.DataFrame'>\n",
      "Int64Index: 600289 entries, 498 to 8648713\n",
      "Data columns (total 4 columns):\n",
      " #   Column         Non-Null Count   Dtype \n",
      "---  ------         --------------   ----- \n",
      " 0   tconst         600289 non-null  object\n",
      " 1   titleType      600289 non-null  object\n",
      " 2   primaryTitle   600289 non-null  object\n",
      " 3   originalTitle  600289 non-null  object\n",
      "dtypes: object(4)\n",
      "memory usage: 39.0+ MB\n"
     ]
    }
   ],
   "source": [
    "#Drop runtimeMinutes and duplicates\n",
    "title_basics.drop(['runtimeMinutes'], axis=1, inplace=True)\n",
    "title_basics.drop_duplicates\n",
    "\n",
    "title_basics.info()"
   ]
  },
  {
   "cell_type": "markdown",
   "metadata": {},
   "source": [
    "### title_akas"
   ]
  },
  {
   "cell_type": "code",
   "execution_count": 135,
   "metadata": {
    "scrolled": true
   },
   "outputs": [
    {
     "data": {
      "text/html": [
       "<div>\n",
       "<style scoped>\n",
       "    .dataframe tbody tr th:only-of-type {\n",
       "        vertical-align: middle;\n",
       "    }\n",
       "\n",
       "    .dataframe tbody tr th {\n",
       "        vertical-align: top;\n",
       "    }\n",
       "\n",
       "    .dataframe thead th {\n",
       "        text-align: right;\n",
       "    }\n",
       "</style>\n",
       "<table border=\"1\" class=\"dataframe\">\n",
       "  <thead>\n",
       "    <tr style=\"text-align: right;\">\n",
       "      <th></th>\n",
       "      <th>titleId</th>\n",
       "      <th>ordering</th>\n",
       "      <th>title</th>\n",
       "      <th>region</th>\n",
       "      <th>language</th>\n",
       "      <th>types</th>\n",
       "      <th>attributes</th>\n",
       "      <th>isOriginalTitle</th>\n",
       "    </tr>\n",
       "  </thead>\n",
       "  <tbody>\n",
       "    <tr>\n",
       "      <th>0</th>\n",
       "      <td>tt0000001</td>\n",
       "      <td>1</td>\n",
       "      <td>Карменсіта</td>\n",
       "      <td>UA</td>\n",
       "      <td>\\N</td>\n",
       "      <td>imdbDisplay</td>\n",
       "      <td>\\N</td>\n",
       "      <td>0</td>\n",
       "    </tr>\n",
       "    <tr>\n",
       "      <th>1</th>\n",
       "      <td>tt0000001</td>\n",
       "      <td>2</td>\n",
       "      <td>Carmencita</td>\n",
       "      <td>DE</td>\n",
       "      <td>\\N</td>\n",
       "      <td>\\N</td>\n",
       "      <td>literal title</td>\n",
       "      <td>0</td>\n",
       "    </tr>\n",
       "    <tr>\n",
       "      <th>2</th>\n",
       "      <td>tt0000001</td>\n",
       "      <td>3</td>\n",
       "      <td>Carmencita - spanyol tánc</td>\n",
       "      <td>HU</td>\n",
       "      <td>\\N</td>\n",
       "      <td>imdbDisplay</td>\n",
       "      <td>\\N</td>\n",
       "      <td>0</td>\n",
       "    </tr>\n",
       "    <tr>\n",
       "      <th>3</th>\n",
       "      <td>tt0000001</td>\n",
       "      <td>4</td>\n",
       "      <td>Καρμενσίτα</td>\n",
       "      <td>GR</td>\n",
       "      <td>\\N</td>\n",
       "      <td>imdbDisplay</td>\n",
       "      <td>\\N</td>\n",
       "      <td>0</td>\n",
       "    </tr>\n",
       "    <tr>\n",
       "      <th>4</th>\n",
       "      <td>tt0000001</td>\n",
       "      <td>5</td>\n",
       "      <td>Карменсита</td>\n",
       "      <td>RU</td>\n",
       "      <td>\\N</td>\n",
       "      <td>imdbDisplay</td>\n",
       "      <td>\\N</td>\n",
       "      <td>0</td>\n",
       "    </tr>\n",
       "  </tbody>\n",
       "</table>\n",
       "</div>"
      ],
      "text/plain": [
       "     titleId  ordering                      title region language  \\\n",
       "0  tt0000001         1                 Карменсіта     UA       \\N   \n",
       "1  tt0000001         2                 Carmencita     DE       \\N   \n",
       "2  tt0000001         3  Carmencita - spanyol tánc     HU       \\N   \n",
       "3  tt0000001         4                 Καρμενσίτα     GR       \\N   \n",
       "4  tt0000001         5                 Карменсита     RU       \\N   \n",
       "\n",
       "         types     attributes isOriginalTitle  \n",
       "0  imdbDisplay             \\N               0  \n",
       "1           \\N  literal title               0  \n",
       "2  imdbDisplay             \\N               0  \n",
       "3  imdbDisplay             \\N               0  \n",
       "4  imdbDisplay             \\N               0  "
      ]
     },
     "execution_count": 135,
     "metadata": {},
     "output_type": "execute_result"
    }
   ],
   "source": [
    "title_akas.head()"
   ]
  },
  {
   "cell_type": "code",
   "execution_count": 136,
   "metadata": {
    "scrolled": true
   },
   "outputs": [
    {
     "name": "stdout",
     "output_type": "stream",
     "text": [
      "<class 'pandas.core.frame.DataFrame'>\n",
      "RangeIndex: 30770404 entries, 0 to 30770403\n",
      "Data columns (total 8 columns):\n",
      " #   Column           Dtype \n",
      "---  ------           ----- \n",
      " 0   titleId          object\n",
      " 1   ordering         int64 \n",
      " 2   title            object\n",
      " 3   region           object\n",
      " 4   language         object\n",
      " 5   types            object\n",
      " 6   attributes       object\n",
      " 7   isOriginalTitle  object\n",
      "dtypes: int64(1), object(7)\n",
      "memory usage: 1.8+ GB\n"
     ]
    }
   ],
   "source": [
    "title_akas.info()"
   ]
  },
  {
   "cell_type": "code",
   "execution_count": 137,
   "metadata": {},
   "outputs": [
    {
     "data": {
      "text/plain": [
       "<bound method DataFrame.info of             titleId                      title region\n",
       "0         tt0000001                 Карменсіта     UA\n",
       "1         tt0000001                 Carmencita     DE\n",
       "2         tt0000001  Carmencita - spanyol tánc     HU\n",
       "3         tt0000001                 Καρμενσίτα     GR\n",
       "4         tt0000001                 Карменсита     RU\n",
       "...             ...                        ...    ...\n",
       "30770399  tt9916852             Episódio #3.20     PT\n",
       "30770400  tt9916852             Episodio #3.20     IT\n",
       "30770401  tt9916852               एपिसोड #3.20     IN\n",
       "30770402  tt9916856                   The Wind     DE\n",
       "30770403  tt9916856                   The Wind     \\N\n",
       "\n",
       "[30770404 rows x 3 columns]>"
      ]
     },
     "execution_count": 137,
     "metadata": {},
     "output_type": "execute_result"
    }
   ],
   "source": [
    "#Drop ordering, language, types, attributes, isOriginalTitle\n",
    "title_akas.drop(['ordering','language','types','attributes','isOriginalTitle'], axis=1, inplace=True)\n",
    "title_akas.info"
   ]
  },
  {
   "cell_type": "code",
   "execution_count": 138,
   "metadata": {},
   "outputs": [
    {
     "data": {
      "text/html": [
       "<div>\n",
       "<style scoped>\n",
       "    .dataframe tbody tr th:only-of-type {\n",
       "        vertical-align: middle;\n",
       "    }\n",
       "\n",
       "    .dataframe tbody tr th {\n",
       "        vertical-align: top;\n",
       "    }\n",
       "\n",
       "    .dataframe thead th {\n",
       "        text-align: right;\n",
       "    }\n",
       "</style>\n",
       "<table border=\"1\" class=\"dataframe\">\n",
       "  <thead>\n",
       "    <tr style=\"text-align: right;\">\n",
       "      <th></th>\n",
       "      <th>titleId</th>\n",
       "      <th>title</th>\n",
       "      <th>region</th>\n",
       "    </tr>\n",
       "  </thead>\n",
       "  <tbody>\n",
       "    <tr>\n",
       "      <th>0</th>\n",
       "      <td>tt0000001</td>\n",
       "      <td>Карменсіта</td>\n",
       "      <td>UA</td>\n",
       "    </tr>\n",
       "    <tr>\n",
       "      <th>1</th>\n",
       "      <td>tt0000001</td>\n",
       "      <td>Carmencita</td>\n",
       "      <td>DE</td>\n",
       "    </tr>\n",
       "    <tr>\n",
       "      <th>2</th>\n",
       "      <td>tt0000001</td>\n",
       "      <td>Carmencita - spanyol tánc</td>\n",
       "      <td>HU</td>\n",
       "    </tr>\n",
       "    <tr>\n",
       "      <th>3</th>\n",
       "      <td>tt0000001</td>\n",
       "      <td>Καρμενσίτα</td>\n",
       "      <td>GR</td>\n",
       "    </tr>\n",
       "    <tr>\n",
       "      <th>4</th>\n",
       "      <td>tt0000001</td>\n",
       "      <td>Карменсита</td>\n",
       "      <td>RU</td>\n",
       "    </tr>\n",
       "  </tbody>\n",
       "</table>\n",
       "</div>"
      ],
      "text/plain": [
       "     titleId                      title region\n",
       "0  tt0000001                 Карменсіта     UA\n",
       "1  tt0000001                 Carmencita     DE\n",
       "2  tt0000001  Carmencita - spanyol tánc     HU\n",
       "3  tt0000001                 Καρμενσίτα     GR\n",
       "4  tt0000001                 Карменсита     RU"
      ]
     },
     "execution_count": 138,
     "metadata": {},
     "output_type": "execute_result"
    }
   ],
   "source": [
    "title_akas.head()"
   ]
  },
  {
   "cell_type": "code",
   "execution_count": 140,
   "metadata": {},
   "outputs": [],
   "source": [
    "title_akas_df = title_akas.loc[title_akas['region'] == 'US']"
   ]
  },
  {
   "cell_type": "code",
   "execution_count": 141,
   "metadata": {},
   "outputs": [
    {
     "name": "stdout",
     "output_type": "stream",
     "text": [
      "<class 'pandas.core.frame.DataFrame'>\n",
      "Int64Index: 1295121 entries, 5 to 30770148\n",
      "Data columns (total 3 columns):\n",
      " #   Column   Non-Null Count    Dtype \n",
      "---  ------   --------------    ----- \n",
      " 0   titleId  1295121 non-null  object\n",
      " 1   title    1295121 non-null  object\n",
      " 2   region   1295121 non-null  object\n",
      "dtypes: object(3)\n",
      "memory usage: 39.5+ MB\n"
     ]
    },
    {
     "data": {
      "text/plain": [
       "(1295121, 3)"
      ]
     },
     "execution_count": 141,
     "metadata": {},
     "output_type": "execute_result"
    }
   ],
   "source": [
    "title_akas_df.info()\n",
    "title_akas_df.shape"
   ]
  },
  {
   "cell_type": "code",
   "execution_count": 144,
   "metadata": {},
   "outputs": [
    {
     "name": "stderr",
     "output_type": "stream",
     "text": [
      "<ipython-input-144-2cf4a02dc689>:1: SettingWithCopyWarning: \n",
      "A value is trying to be set on a copy of a slice from a DataFrame\n",
      "\n",
      "See the caveats in the documentation: https://pandas.pydata.org/pandas-docs/stable/user_guide/indexing.html#returning-a-view-versus-a-copy\n",
      "  title_akas_df.drop_duplicates(inplace=True)\n"
     ]
    }
   ],
   "source": [
    "title_akas_df.drop_duplicates(inplace=True)"
   ]
  },
  {
   "cell_type": "code",
   "execution_count": 145,
   "metadata": {},
   "outputs": [
    {
     "data": {
      "text/plain": [
       "(1293783, 3)"
      ]
     },
     "execution_count": 145,
     "metadata": {},
     "output_type": "execute_result"
    }
   ],
   "source": [
    "title_akas_df.shape"
   ]
  },
  {
   "cell_type": "code",
   "execution_count": 147,
   "metadata": {},
   "outputs": [
    {
     "data": {
      "text/html": [
       "<div>\n",
       "<style scoped>\n",
       "    .dataframe tbody tr th:only-of-type {\n",
       "        vertical-align: middle;\n",
       "    }\n",
       "\n",
       "    .dataframe tbody tr th {\n",
       "        vertical-align: top;\n",
       "    }\n",
       "\n",
       "    .dataframe thead th {\n",
       "        text-align: right;\n",
       "    }\n",
       "</style>\n",
       "<table border=\"1\" class=\"dataframe\">\n",
       "  <thead>\n",
       "    <tr style=\"text-align: right;\">\n",
       "      <th></th>\n",
       "      <th>tconst</th>\n",
       "      <th>title</th>\n",
       "      <th>region</th>\n",
       "    </tr>\n",
       "  </thead>\n",
       "  <tbody>\n",
       "    <tr>\n",
       "      <th>5</th>\n",
       "      <td>tt0000001</td>\n",
       "      <td>Carmencita</td>\n",
       "      <td>US</td>\n",
       "    </tr>\n",
       "    <tr>\n",
       "      <th>14</th>\n",
       "      <td>tt0000002</td>\n",
       "      <td>The Clown and His Dogs</td>\n",
       "      <td>US</td>\n",
       "    </tr>\n",
       "    <tr>\n",
       "      <th>33</th>\n",
       "      <td>tt0000005</td>\n",
       "      <td>Blacksmith Scene</td>\n",
       "      <td>US</td>\n",
       "    </tr>\n",
       "    <tr>\n",
       "      <th>36</th>\n",
       "      <td>tt0000005</td>\n",
       "      <td>Blacksmithing Scene</td>\n",
       "      <td>US</td>\n",
       "    </tr>\n",
       "    <tr>\n",
       "      <th>41</th>\n",
       "      <td>tt0000005</td>\n",
       "      <td>Blacksmith Scene #1</td>\n",
       "      <td>US</td>\n",
       "    </tr>\n",
       "    <tr>\n",
       "      <th>...</th>\n",
       "      <td>...</td>\n",
       "      <td>...</td>\n",
       "      <td>...</td>\n",
       "    </tr>\n",
       "    <tr>\n",
       "      <th>30770075</th>\n",
       "      <td>tt9916702</td>\n",
       "      <td>Loving London: The Playground</td>\n",
       "      <td>US</td>\n",
       "    </tr>\n",
       "    <tr>\n",
       "      <th>30770113</th>\n",
       "      <td>tt9916720</td>\n",
       "      <td>The Demonic Nun</td>\n",
       "      <td>US</td>\n",
       "    </tr>\n",
       "    <tr>\n",
       "      <th>30770115</th>\n",
       "      <td>tt9916720</td>\n",
       "      <td>The Nun 2</td>\n",
       "      <td>US</td>\n",
       "    </tr>\n",
       "    <tr>\n",
       "      <th>30770132</th>\n",
       "      <td>tt9916756</td>\n",
       "      <td>Pretty Pretty Black Girl</td>\n",
       "      <td>US</td>\n",
       "    </tr>\n",
       "    <tr>\n",
       "      <th>30770148</th>\n",
       "      <td>tt9916764</td>\n",
       "      <td>38</td>\n",
       "      <td>US</td>\n",
       "    </tr>\n",
       "  </tbody>\n",
       "</table>\n",
       "<p>1293783 rows × 3 columns</p>\n",
       "</div>"
      ],
      "text/plain": [
       "             tconst                          title region\n",
       "5         tt0000001                     Carmencita     US\n",
       "14        tt0000002         The Clown and His Dogs     US\n",
       "33        tt0000005               Blacksmith Scene     US\n",
       "36        tt0000005            Blacksmithing Scene     US\n",
       "41        tt0000005            Blacksmith Scene #1     US\n",
       "...             ...                            ...    ...\n",
       "30770075  tt9916702  Loving London: The Playground     US\n",
       "30770113  tt9916720                The Demonic Nun     US\n",
       "30770115  tt9916720                      The Nun 2     US\n",
       "30770132  tt9916756       Pretty Pretty Black Girl     US\n",
       "30770148  tt9916764                             38     US\n",
       "\n",
       "[1293783 rows x 3 columns]"
      ]
     },
     "execution_count": 147,
     "metadata": {},
     "output_type": "execute_result"
    },
    {
     "name": "stdout",
     "output_type": "stream",
     "text": [
      "<class 'pandas.core.frame.DataFrame'>\n",
      "Int64Index: 1293783 entries, 5 to 30770148\n",
      "Data columns (total 3 columns):\n",
      " #   Column   Non-Null Count    Dtype \n",
      "---  ------   --------------    ----- \n",
      " 0   titleId  1293783 non-null  object\n",
      " 1   title    1293783 non-null  object\n",
      " 2   region   1293783 non-null  object\n",
      "dtypes: object(3)\n",
      "memory usage: 39.5+ MB\n"
     ]
    }
   ],
   "source": [
    "title_akas_df.info()"
   ]
  },
  {
   "cell_type": "code",
   "execution_count": 148,
   "metadata": {},
   "outputs": [],
   "source": [
    "# merge title_basics and title_akas_df\n",
    "\n",
    "title_df = pd.merge(title_basics, title_akas_df, left_on='tconst', right_on='titleId')"
   ]
  },
  {
   "cell_type": "code",
   "execution_count": 150,
   "metadata": {
    "scrolled": true
   },
   "outputs": [
    {
     "data": {
      "text/html": [
       "<div>\n",
       "<style scoped>\n",
       "    .dataframe tbody tr th:only-of-type {\n",
       "        vertical-align: middle;\n",
       "    }\n",
       "\n",
       "    .dataframe tbody tr th {\n",
       "        vertical-align: top;\n",
       "    }\n",
       "\n",
       "    .dataframe thead th {\n",
       "        text-align: right;\n",
       "    }\n",
       "</style>\n",
       "<table border=\"1\" class=\"dataframe\">\n",
       "  <thead>\n",
       "    <tr style=\"text-align: right;\">\n",
       "      <th></th>\n",
       "      <th>tconst</th>\n",
       "      <th>titleType</th>\n",
       "      <th>primaryTitle</th>\n",
       "      <th>originalTitle</th>\n",
       "      <th>titleId</th>\n",
       "      <th>title</th>\n",
       "      <th>region</th>\n",
       "    </tr>\n",
       "  </thead>\n",
       "  <tbody>\n",
       "    <tr>\n",
       "      <th>0</th>\n",
       "      <td>tt0000574</td>\n",
       "      <td>movie</td>\n",
       "      <td>The Story of the Kelly Gang</td>\n",
       "      <td>The Story of the Kelly Gang</td>\n",
       "      <td>tt0000574</td>\n",
       "      <td>The Story of the Kelly Gang</td>\n",
       "      <td>US</td>\n",
       "    </tr>\n",
       "    <tr>\n",
       "      <th>1</th>\n",
       "      <td>tt0000591</td>\n",
       "      <td>movie</td>\n",
       "      <td>The Prodigal Son</td>\n",
       "      <td>L'enfant prodigue</td>\n",
       "      <td>tt0000591</td>\n",
       "      <td>The Prodigal Son</td>\n",
       "      <td>US</td>\n",
       "    </tr>\n",
       "    <tr>\n",
       "      <th>2</th>\n",
       "      <td>tt0000630</td>\n",
       "      <td>movie</td>\n",
       "      <td>Hamlet</td>\n",
       "      <td>Amleto</td>\n",
       "      <td>tt0000630</td>\n",
       "      <td>Hamlet</td>\n",
       "      <td>US</td>\n",
       "    </tr>\n",
       "    <tr>\n",
       "      <th>3</th>\n",
       "      <td>tt0000679</td>\n",
       "      <td>movie</td>\n",
       "      <td>The Fairylogue and Radio-Plays</td>\n",
       "      <td>The Fairylogue and Radio-Plays</td>\n",
       "      <td>tt0000679</td>\n",
       "      <td>The Fairylogue and Radio-Plays</td>\n",
       "      <td>US</td>\n",
       "    </tr>\n",
       "    <tr>\n",
       "      <th>4</th>\n",
       "      <td>tt0000886</td>\n",
       "      <td>movie</td>\n",
       "      <td>Hamlet, Prince of Denmark</td>\n",
       "      <td>Hamlet</td>\n",
       "      <td>tt0000886</td>\n",
       "      <td>Hamlet, Prince of Denmark</td>\n",
       "      <td>US</td>\n",
       "    </tr>\n",
       "  </tbody>\n",
       "</table>\n",
       "</div>"
      ],
      "text/plain": [
       "      tconst titleType                    primaryTitle  \\\n",
       "0  tt0000574     movie     The Story of the Kelly Gang   \n",
       "1  tt0000591     movie                The Prodigal Son   \n",
       "2  tt0000630     movie                          Hamlet   \n",
       "3  tt0000679     movie  The Fairylogue and Radio-Plays   \n",
       "4  tt0000886     movie       Hamlet, Prince of Denmark   \n",
       "\n",
       "                    originalTitle    titleId                           title  \\\n",
       "0     The Story of the Kelly Gang  tt0000574     The Story of the Kelly Gang   \n",
       "1               L'enfant prodigue  tt0000591                The Prodigal Son   \n",
       "2                          Amleto  tt0000630                          Hamlet   \n",
       "3  The Fairylogue and Radio-Plays  tt0000679  The Fairylogue and Radio-Plays   \n",
       "4                          Hamlet  tt0000886       Hamlet, Prince of Denmark   \n",
       "\n",
       "  region  \n",
       "0     US  \n",
       "1     US  \n",
       "2     US  \n",
       "3     US  \n",
       "4     US  "
      ]
     },
     "execution_count": 150,
     "metadata": {},
     "output_type": "execute_result"
    },
    {
     "name": "stdout",
     "output_type": "stream",
     "text": [
      "<class 'pandas.core.frame.DataFrame'>\n",
      "Int64Index: 304951 entries, 0 to 304950\n",
      "Data columns (total 7 columns):\n",
      " #   Column         Non-Null Count   Dtype \n",
      "---  ------         --------------   ----- \n",
      " 0   tconst         304951 non-null  object\n",
      " 1   titleType      304951 non-null  object\n",
      " 2   primaryTitle   304951 non-null  object\n",
      " 3   originalTitle  304951 non-null  object\n",
      " 4   titleId        304951 non-null  object\n",
      " 5   title          304951 non-null  object\n",
      " 6   region         304951 non-null  object\n",
      "dtypes: object(7)\n",
      "memory usage: 18.6+ MB\n"
     ]
    }
   ],
   "source": [
    "title_df.head()\n",
    "title_df.info()"
   ]
  },
  {
   "cell_type": "code",
   "execution_count": 151,
   "metadata": {},
   "outputs": [],
   "source": [
    "# Write two dataframes to excel:\n",
    "\n",
    "writer = pd.ExcelWriter('EDA_Phase1.xlsx', engine='xlsxwriter')\n",
    "\n",
    "movie_budget.to_excel(writer, sheet_name='Sheet1')\n",
    "title_df.to_excel(writer, sheet_name='Sheet2')\n",
    "\n",
    "# Close the pandas excel writer\n",
    "writer.save()"
   ]
  },
  {
   "cell_type": "markdown",
   "metadata": {},
   "source": [
    "<div class=\"alert alert-block alert-danger\"><b>STOP HERE for your EDA Phase 1 assignment. Submit your <i><u>cleaned</u></i> data file along with the completed notebook up to this point for grading.</b></div>"
   ]
  },
  {
   "cell_type": "markdown",
   "metadata": {},
   "source": [
    "# EDA Phase 2"
   ]
  },
  {
   "cell_type": "markdown",
   "metadata": {},
   "source": [
    "<div class=\"alert alert-block alert-info\">All of your work for the EDA Phase 2 assignment will begin below here. Refer to the detailed instructions and expectations for this assignment in Canvas.</div>"
   ]
  },
  {
   "cell_type": "code",
   "execution_count": null,
   "metadata": {},
   "outputs": [],
   "source": []
  }
 ],
 "metadata": {
  "kernelspec": {
   "display_name": "Python 3",
   "language": "python",
   "name": "python3"
  },
  "language_info": {
   "codemirror_mode": {
    "name": "ipython",
    "version": 3
   },
   "file_extension": ".py",
   "mimetype": "text/x-python",
   "name": "python",
   "nbconvert_exporter": "python",
   "pygments_lexer": "ipython3",
   "version": "3.8.8"
  }
 },
 "nbformat": 4,
 "nbformat_minor": 1
}
